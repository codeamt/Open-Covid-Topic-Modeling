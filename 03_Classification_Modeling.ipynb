{
  "nbformat": 4,
  "nbformat_minor": 0,
  "metadata": {
    "colab": {
      "name": "clf_modeling.ipynb",
      "provenance": [],
      "machine_shape": "hm"
    },
    "kernelspec": {
      "name": "python3",
      "display_name": "Python 3"
    },
    "accelerator": "GPU"
  },
  "cells": [
    {
      "cell_type": "code",
      "metadata": {
        "id": "jijoZsdVZpHP",
        "colab": {
          "base_uri": "https://localhost:8080/",
          "height": 34
        },
        "outputId": "d845a94c-c00b-4959-a79b-3645456823fd"
      },
      "source": [
        "%%writefile setup.sh\n",
        "pip install sklearn --quiet\n",
        "pip3 install torch torchvision --quiet\n",
        "pip install --upgrade fastai --quiet\n",
        "pip install -U skorch --quiet"
      ],
      "execution_count": null,
      "outputs": [
        {
          "output_type": "stream",
          "text": [
            "Writing setup.sh\n"
          ],
          "name": "stdout"
        }
      ]
    },
    {
      "cell_type": "code",
      "metadata": {
        "id": "Wo2snp1dciRW",
        "colab": {
          "base_uri": "https://localhost:8080/",
          "height": 70
        },
        "outputId": "fa669243-73a4-4b06-de29-846b35a82ce0"
      },
      "source": [
        "!sh setup.sh"
      ],
      "execution_count": null,
      "outputs": [
        {
          "output_type": "stream",
          "text": [
            "\u001b[K     |████████████████████████████████| 194kB 8.1MB/s \n",
            "\u001b[K     |████████████████████████████████| 40kB 5.1MB/s \n",
            "\u001b[K     |████████████████████████████████| 133kB 8.4MB/s \n",
            "\u001b[?25h"
          ],
          "name": "stdout"
        }
      ]
    },
    {
      "cell_type": "code",
      "metadata": {
        "id": "DDCZRddAck92",
        "colab": {
          "base_uri": "https://localhost:8080/",
          "height": 407
        },
        "outputId": "7ec67b72-a235-4a03-f114-7a066e2a49c8"
      },
      "source": [
        "import torch\n",
        "if torch.cuda.is_available():       \n",
        "    device = torch.device(\"cuda\")\n",
        "    print(f'There are {torch.cuda.device_count()} GPU(s) available.')\n",
        "    print('Device name:', torch.cuda.get_device_name(0))\n",
        "\n",
        "else:\n",
        "    print('No GPU available, using the CPU instead.')\n",
        "    device = torch.device(\"cpu\")\n",
        "!nvidia-smi"
      ],
      "execution_count": null,
      "outputs": [
        {
          "output_type": "stream",
          "text": [
            "There are 1 GPU(s) available.\n",
            "Device name: Tesla V100-SXM2-16GB\n",
            "Tue Sep 29 20:28:20 2020       \n",
            "+-----------------------------------------------------------------------------+\n",
            "| NVIDIA-SMI 455.23.05    Driver Version: 418.67       CUDA Version: 10.1     |\n",
            "|-------------------------------+----------------------+----------------------+\n",
            "| GPU  Name        Persistence-M| Bus-Id        Disp.A | Volatile Uncorr. ECC |\n",
            "| Fan  Temp  Perf  Pwr:Usage/Cap|         Memory-Usage | GPU-Util  Compute M. |\n",
            "|                               |                      |               MIG M. |\n",
            "|===============================+======================+======================|\n",
            "|   0  Tesla V100-SXM2...  Off  | 00000000:00:04.0 Off |                    0 |\n",
            "| N/A   38C    P0    24W / 300W |     10MiB / 16130MiB |      0%      Default |\n",
            "|                               |                      |                 ERR! |\n",
            "+-------------------------------+----------------------+----------------------+\n",
            "                                                                               \n",
            "+-----------------------------------------------------------------------------+\n",
            "| Processes:                                                                  |\n",
            "|  GPU   GI   CI        PID   Type   Process name                  GPU Memory |\n",
            "|        ID   ID                                                   Usage      |\n",
            "|=============================================================================|\n",
            "|  No running processes found                                                 |\n",
            "+-----------------------------------------------------------------------------+\n"
          ],
          "name": "stdout"
        }
      ]
    },
    {
      "cell_type": "code",
      "metadata": {
        "id": "uwLJ0kDKcpo8"
      },
      "source": [
        "import gc\n",
        "import time\n",
        "import random\n",
        "import matplotlib.pyplot as plt\n",
        "import numpy as np\n",
        "import pandas as pd\n",
        "from fastai import *\n",
        "from fastai.text.all import *\n",
        "\n",
        "from sklearn.metrics import accuracy_score, roc_curve, \\\n",
        "auc, classification_report, confusion_matrix\n",
        "from sklearn.model_selection import train_test_split\n",
        "\n",
        "import warnings\n",
        "warnings.filterwarnings('ignore')"
      ],
      "execution_count": null,
      "outputs": []
    },
    {
      "cell_type": "markdown",
      "metadata": {
        "id": "flwrLe-1hBQQ"
      },
      "source": [
        ""
      ]
    },
    {
      "cell_type": "code",
      "metadata": {
        "id": "SPf4Mb0ddC23",
        "colab": {
          "base_uri": "https://localhost:8080/",
          "height": 265
        },
        "outputId": "62f69d2c-2d73-44e6-ffba-7aa5afc01599"
      },
      "source": [
        "meta_data = pd.read_csv('./abstract_data_final_01.csv')\n",
        "meta_data.dtypes "
      ],
      "execution_count": null,
      "outputs": [
        {
          "output_type": "execute_result",
          "data": {
            "text/plain": [
              "cord_uid           object\n",
              "source_x           object\n",
              "title              object\n",
              "license            object\n",
              "abstract           object\n",
              "publish_year        int64\n",
              "authors            object\n",
              "journal            object\n",
              "url                object\n",
              "word_count          int64\n",
              "abstract_clean     object\n",
              "topic               int64\n",
              "topic_resid       float64\n",
              "dtype: object"
            ]
          },
          "metadata": {
            "tags": []
          },
          "execution_count": 5
        }
      ]
    },
    {
      "cell_type": "markdown",
      "metadata": {
        "id": "dgJ-xajIh-qj"
      },
      "source": [
        ""
      ]
    },
    {
      "cell_type": "code",
      "metadata": {
        "id": "8lpuaRSXh_Dv",
        "colab": {
          "base_uri": "https://localhost:8080/",
          "height": 498
        },
        "outputId": "31414d51-7ac5-4d65-b5fb-2b59bf921949"
      },
      "source": [
        "meta_data.groupby(\"topic\").count()['cord_uid'].sort_index(ascending=True,) \\\n",
        ".plot.bar(figsize=(15,8))"
      ],
      "execution_count": null,
      "outputs": [
        {
          "output_type": "execute_result",
          "data": {
            "text/plain": [
              "<matplotlib.axes._subplots.AxesSubplot at 0x7fdb0b2eeb00>"
            ]
          },
          "metadata": {
            "tags": []
          },
          "execution_count": 6
        },
        {
          "output_type": "display_data",
          "data": {
            "image/png": "[encoded data removed]",
            "text/plain": [
              "<Figure size 1080x576 with 1 Axes>"
            ]
          },
          "metadata": {
            "tags": [],
            "needs_background": "light"
          }
        }
      ]
    },
    {
      "cell_type": "markdown",
      "metadata": {
        "id": "5jbkaH55nKN_"
      },
      "source": [
        ""
      ]
    },
    {
      "cell_type": "markdown",
      "metadata": {
        "id": "Jr0ivMYrnKer"
      },
      "source": [
        ""
      ]
    },
    {
      "cell_type": "code",
      "metadata": {
        "id": "1CpukzwUm-2e"
      },
      "source": [
        "df_0 = meta_data[meta_data['topic'] == 0]\n",
        "df_1 = meta_data[meta_data['topic'] == 1]\n",
        "df_2  = meta_data[meta_data['topic'] == 2]\n",
        "df_3 = meta_data[meta_data['topic'] == 3]\n",
        "df_4  = meta_data[meta_data['topic'] == 4]\n",
        "df_5 = meta_data[meta_data['topic'] == 5]\n",
        "df_6  = meta_data[meta_data['topic'] == 6]\n",
        "df_7 = meta_data[meta_data['topic'] == 7]\n",
        "df_8  = meta_data[meta_data['topic'] == 8]\n",
        "df_9 = meta_data[meta_data['topic'] == 9]\n",
        "df_10 = meta_data[meta_data['topic'] == 10]\n",
        "df_11 = meta_data[meta_data['topic'] == 11]\n",
        "df_12  = meta_data[meta_data['topic'] == 12]\n",
        "df_13 = meta_data[meta_data['topic'] == 13]\n",
        "df_14  = meta_data[meta_data['topic'] == 14]\n",
        "df_15 = meta_data[meta_data['topic'] == 15]\n",
        "df_16  = meta_data[meta_data['topic'] == 16]\n",
        "df_17 = meta_data[meta_data['topic'] == 17]\n",
        "df_18  = meta_data[meta_data['topic'] == 18]\n",
        "df_19 = meta_data[meta_data['topic'] == 19]"
      ],
      "execution_count": null,
      "outputs": []
    },
    {
      "cell_type": "markdown",
      "metadata": {
        "id": "QIpBwA4GnMlp"
      },
      "source": [
        ""
      ]
    },
    {
      "cell_type": "code",
      "metadata": {
        "id": "Jas_3jhsh_aG",
        "colab": {
          "base_uri": "https://localhost:8080/",
          "height": 52
        },
        "outputId": "fbc5f994-6585-494b-a145-52a1331985ed"
      },
      "source": [
        "ratio_13 = int(len(df_13)/len(df_2))\n",
        "ratio_18 = int(len(df_18)/len(df_2))\n",
        "\n",
        "print(\"Topic 13 v. Topic 2 ratio: {}\".format(ratio_13))\n",
        "print(\"Topic 18 v. Topic 2 ratio: {}\".format(ratio_18))"
      ],
      "execution_count": null,
      "outputs": [
        {
          "output_type": "stream",
          "text": [
            "Topic 13 v. Topic 2 ratio: 1\n",
            "Topic 18 v. Topic 2 ratio: 3\n"
          ],
          "name": "stdout"
        }
      ]
    },
    {
      "cell_type": "code",
      "metadata": {
        "id": "aTZfMsBFh_ns"
      },
      "source": [
        "sampled_13_df = df_13.sample(frac=1/ratio_13)\n",
        "sampled_18_df = df_18.sample(frac=1/ratio_18)"
      ],
      "execution_count": null,
      "outputs": []
    },
    {
      "cell_type": "code",
      "metadata": {
        "id": "BV4SFYd8h_-j",
        "colab": {
          "base_uri": "https://localhost:8080/",
          "height": 498
        },
        "outputId": "544e96af-700a-46e7-dfe2-94dd8ef0d0f2"
      },
      "source": [
        "meta_resampled = pd.concat([df_0,\n",
        "                            df_1,\n",
        "                            df_2,\n",
        "                            df_3, \n",
        "                            df_4, \n",
        "                            df_5,\n",
        "                            df_6,\n",
        "                            df_7,\n",
        "                            df_8,\n",
        "                            df_9,\n",
        "                            df_10, \n",
        "                            df_10,\n",
        "                            df_11,\n",
        "                            df_12, \n",
        "                            sampled_13_df,\n",
        "                            df_14, \n",
        "                            df_15, \n",
        "                            df_16, \n",
        "                            df_17,\n",
        "                            sampled_18_df,\n",
        "                            df_19], axis=0)\n",
        "meta_resampled.groupby(\"topic\").count()['cord_uid'].sort_index(ascending=True,) \\\n",
        ".plot.bar(figsize=(15,8))"
      ],
      "execution_count": null,
      "outputs": [
        {
          "output_type": "execute_result",
          "data": {
            "text/plain": [
              "<matplotlib.axes._subplots.AxesSubplot at 0x7fdb0a9ba2b0>"
            ]
          },
          "metadata": {
            "tags": []
          },
          "execution_count": 13
        },
        {
          "output_type": "display_data",
          "data": {
            "image/png": "[encoded data removed]",
            "text/plain": [
              "<Figure size 1080x576 with 1 Axes>"
            ]
          },
          "metadata": {
            "tags": [],
            "needs_background": "light"
          }
        }
      ]
    },
    {
      "cell_type": "code",
      "metadata": {
        "id": "MSZcB6u0lSEv",
        "colab": {
          "base_uri": "https://localhost:8080/",
          "height": 1000
        },
        "outputId": "62fbd76b-765c-437f-ae42-d974f78861d8"
      },
      "source": [
        "meta_resampled.head()"
      ],
      "execution_count": null,
      "outputs": [
        {
          "output_type": "execute_result",
          "data": {
            "text/html": [
              "<div>\n",
              "<style scoped>\n",
              "    .dataframe tbody tr th:only-of-type {\n",
              "        vertical-align: middle;\n",
              "    }\n",
              "\n",
              "    .dataframe tbody tr th {\n",
              "        vertical-align: top;\n",
              "    }\n",
              "\n",
              "    .dataframe thead th {\n",
              "        text-align: right;\n",
              "    }\n",
              "</style>\n",
              "<table border=\"1\" class=\"dataframe\">\n",
              "  <thead>\n",
              "    <tr style=\"text-align: right;\">\n",
              "      <th></th>\n",
              "      <th>cord_uid</th>\n",
              "      <th>source_x</th>\n",
              "      <th>title</th>\n",
              "      <th>license</th>\n",
              "      <th>abstract</th>\n",
              "      <th>publish_year</th>\n",
              "      <th>authors</th>\n",
              "      <th>journal</th>\n",
              "      <th>url</th>\n",
              "      <th>word_count</th>\n",
              "      <th>abstract_clean</th>\n",
              "      <th>topic</th>\n",
              "      <th>topic_resid</th>\n",
              "    </tr>\n",
              "  </thead>\n",
              "  <tbody>\n",
              "    <tr>\n",
              "      <th>8489</th>\n",
              "      <td>sgzg7ndp</td>\n",
              "      <td>['PMC']</td>\n",
              "      <td>Covid-19: The Rollercoaster of Fibrin(Ogen), D-Dimer, Von Willebrand Factor, P-Selectin and Their Interactions with Endothelial Cells, Platelets and Erythrocytes</td>\n",
              "      <td>cc-by</td>\n",
              "      <td>Severe acute respiratory syndrome coronavirus 2 (SARS-Cov-2), also known as coronavirus disease 2019 (COVID-19)-induced infection, is strongly associated with various coagulopathies that may result in either bleeding and thrombocytopenia or hypercoagulation and thrombosis. Thrombotic and bleeding or thrombotic pathologies are significant accompaniments to acute respiratory syndrome and lung complications in COVID-19. Thrombotic events and bleeding often occur in subjects with weak constitutions, multiple risk factors and comorbidities. Of particular interest are the various circulating inf...</td>\n",
              "      <td>2020</td>\n",
              "      <td>['Grobler Corlia', ' Maphumulo Siphosethu C.', ' Grobbelaar L. Mireille', ' Bredenkamp Jhade C.', ' Laubscher Gert J.', ' Lourens Petrus J.', ' Steenkamp Janami', ' Kell Douglas B.', ' Pretorius Etheresia']</td>\n",
              "      <td>Int J Mol Sci</td>\n",
              "      <td>https://www.ncbi.nlm.nih.gov/pmc/articles/PMC7403995/</td>\n",
              "      <td>246</td>\n",
              "      <td>Severe acute respiratory syndrome coronavirus SARS-Cov- also known coronavirus disease COVID--induced infection strongly associated various coagulopathies may result either bleeding thrombocytopenia hypercoagulation thrombosis. Thrombotic bleeding thrombotic pathologies significant accompaniments ac</td>\n",
              "      <td>0</td>\n",
              "      <td>0.952161</td>\n",
              "    </tr>\n",
              "    <tr>\n",
              "      <th>11689</th>\n",
              "      <td>6xqqo991</td>\n",
              "      <td>['PMC']</td>\n",
              "      <td>Coronaviruserkrankung 2019 (COVID-19) und Schwangerschaft: Übersicht und Bericht des ersten deutschen Falls mit COVID-19 bei Gestationsdiabetes</td>\n",
              "      <td>no-cc</td>\n",
              "      <td>Since the beginning of the coronavirus pandemic with SARS-CoV‑2 (severe acute respiratory syndrome coronavirus 2) in January 2020, more than 100 cases of pregnant Chinese women have been published, including individuals with gestational diabetes (GDM). The descriptive overview reports on the clinical presentation of COVID-19 as well as on obstetric and neonatal outcome data. The main symptoms of the overall milder course of infection are fever, cough and dyspnea. So far, there is no evidence of intrauterine transmission of the virus and no evidence of breast milk transfer. Postnatal infect...</td>\n",
              "      <td>2020</td>\n",
              "      <td>['Kleinwechter H.', ' Laubner K.']</td>\n",
              "      <td>NaN</td>\n",
              "      <td>https://www.ncbi.nlm.nih.gov/pmc/articles/PMC7149285/</td>\n",
              "      <td>124</td>\n",
              "      <td>Since beginning coronavirus pandemic SARS-CoV‑ severe acute respiratory syndrome coronavirus. January. cases pregnant Chinese women published including individuals gestational diabetes GDM. descriptive overview reports clinical presentation COVID- well obstetric neonatal outcome data. main symptoms</td>\n",
              "      <td>0</td>\n",
              "      <td>0.970757</td>\n",
              "    </tr>\n",
              "    <tr>\n",
              "      <th>12218</th>\n",
              "      <td>t4ns3syl</td>\n",
              "      <td>['PMC']</td>\n",
              "      <td>Pros and cons of the application of evolutionary theories to the evolution of SARS-CoV-2</td>\n",
              "      <td>cc-by</td>\n",
              "      <td>The outbreak of severe acute respiratory syndrome coronavirus 2 (SARS-CoV-2) has caused severe damage to the world. With the support of classic evolutionary theories and population genetics principles, many studies on the origin of SARS-CoV-2 have revealed encouraging results but meanwhile some are still under debate. We are concerned with the validity of applying classic evolutionary theories and formula to the evolution of RNA viruses. We have raised several confounding factors like the RNA replication feature and the RNA modification systems of the hosts, which might jeopardize the vali...</td>\n",
              "      <td>2020</td>\n",
              "      <td>['Li Yue', ' Yang Xinai', ' Wang Na', ' Wang Haiyan', ' Yin Bin', ' Yang Xiaoping', ' Jiang Wenqing']</td>\n",
              "      <td>NaN</td>\n",
              "      <td>https://www.ncbi.nlm.nih.gov/pmc/articles/PMC7175784/</td>\n",
              "      <td>100</td>\n",
              "      <td>outbreak severe acute respiratory syndrome coronavirus SARS-CoV- caused severe damage world. support classic evolutionary theories population genetics principles many studies origin SARS-CoV- revealed encouraging results meanwhile still debate. concerned validity applying classic evolutionary theori</td>\n",
              "      <td>0</td>\n",
              "      <td>0.937142</td>\n",
              "    </tr>\n",
              "    <tr>\n",
              "      <th>12348</th>\n",
              "      <td>lk67yfrp</td>\n",
              "      <td>['PMC']</td>\n",
              "      <td>In Silico Prediction of SARS Protease Inhibitors by Virtual High Throughput Screening</td>\n",
              "      <td>no-cc</td>\n",
              "      <td>A structure‐based in silico virtual drug discovery procedure was assessed with severe acute respiratory syndrome coronavirus main protease serving as a case study. First, potential compounds were extracted from protein–ligand complexes selected from Protein Data Bank database based on structural similarity to the target protein. Later, the set of compounds was ranked by docking scores using a Electronic High‐Throughput Screening flexible docking procedure to select the most promising molecules. The set of best performing compounds was then used for similarity search over the 1 million entr...</td>\n",
              "      <td>2007</td>\n",
              "      <td>['Plewczynski Dariusz', ' Hoffmann Marcin', ' Von Grotthuss Marcin', ' Ginalski Krzysztof', ' Rychewski Leszek']</td>\n",
              "      <td>Chem Biol Drug Des</td>\n",
              "      <td>https://www.ncbi.nlm.nih.gov/pmc/articles/PMC7188353/</td>\n",
              "      <td>116</td>\n",
              "      <td>structure‐based silico virtual drug discovery procedure assessed severe acute respiratory syndrome coronavirus main protease serving case study. First potential compounds extracted protein–ligand complexes selected Protein Data Bank database based structural similarity target protein. Later set comp</td>\n",
              "      <td>0</td>\n",
              "      <td>0.979460</td>\n",
              "    </tr>\n",
              "    <tr>\n",
              "      <th>12359</th>\n",
              "      <td>jqexwnq2</td>\n",
              "      <td>['PMC']</td>\n",
              "      <td>Emergence and Reemergence of Severe Acute Respiratory Syndrome (SARS) Coronaviruses</td>\n",
              "      <td>no-cc</td>\n",
              "      <td>The positive-strand RNA viruses, severe acute respiratory syndrome coronavirus (SARS-CoV) and recently emerged COVID-19 epidemics, demonstrated the transmission capability of the coronaviruses by crossing the species barrier and emergence in humans. The source of coronavirus disease 2019 (COVID-19) is severe acute respiratory syndrome coronavirus 2 (SARS-CoV-2), firstly reported in December 2019 at Wuhan, China. COVID-19 is a kind of viral pneumonia. The outbreak of SARS-CoV-2 (COVID-19) has been reported as the introduction of the third highly pathogenic coronavirus which crossed the spec...</td>\n",
              "      <td>2020</td>\n",
              "      <td>['Baxi Preeti', ' Saxena Shailendra K.']</td>\n",
              "      <td>Coronavirus Disease 2019 (COVID-19)</td>\n",
              "      <td>https://www.ncbi.nlm.nih.gov/pmc/articles/PMC7189393/</td>\n",
              "      <td>201</td>\n",
              "      <td>positive-strand RNA viruses severe acute respiratory syndrome coronavirus SARS-CoV recently emerged COVID- epidemics demonstrated transmission capability coronaviruses crossing species barrier emergence humans. source coronavirus disease COVID- severe acute respiratory syndrome coronavirus SARS-CoV-</td>\n",
              "      <td>0</td>\n",
              "      <td>0.835177</td>\n",
              "    </tr>\n",
              "  </tbody>\n",
              "</table>\n",
              "</div>"
            ],
            "text/plain": [
              "       cord_uid source_x  ... topic topic_resid\n",
              "8489   sgzg7ndp  ['PMC']  ...     0    0.952161\n",
              "11689  6xqqo991  ['PMC']  ...     0    0.970757\n",
              "12218  t4ns3syl  ['PMC']  ...     0    0.937142\n",
              "12348  lk67yfrp  ['PMC']  ...     0    0.979460\n",
              "12359  jqexwnq2  ['PMC']  ...     0    0.835177\n",
              "\n",
              "[5 rows x 13 columns]"
            ]
          },
          "metadata": {
            "tags": []
          },
          "execution_count": 14
        }
      ]
    },
    {
      "cell_type": "markdown",
      "metadata": {
        "id": "DhICxe6ziBRD"
      },
      "source": [
        ""
      ]
    },
    {
      "cell_type": "code",
      "metadata": {
        "id": "t8GVisT3ptCl"
      },
      "source": [
        "split = .90\n",
        "df_0_train, df_0_test = train_test_split(df_0, \n",
        "                                train_size = split, \n",
        "                                random_state = 1)\n",
        "\n",
        "df_1_train, df_1_test = train_test_split(df_1, \n",
        "                                train_size = split, \n",
        "                                random_state = 1)\n",
        "\n",
        "df_2_train, df_2_test = train_test_split(df_2, \n",
        "                                train_size = split, \n",
        "                                random_state = 1)\n",
        "\n",
        "df_3_train, df_3_test = train_test_split(df_3, \n",
        "                                train_size = split, \n",
        "                                random_state = 1)\n",
        "\n",
        "df_4_train, df_4_test = train_test_split(df_4, \n",
        "                                train_size = split, \n",
        "                                random_state = 1)\n",
        "\n",
        "df_5_train, df_5_test = train_test_split(df_5, \n",
        "                                train_size = split, \n",
        "                                random_state = 1)\n",
        "\n",
        "df_6_train, df_6_test = train_test_split(df_6, \n",
        "                                train_size = split, \n",
        "                                random_state = 1)\n",
        "\n",
        "df_7_train, df_7_test = train_test_split(df_7, \n",
        "                                train_size = split, \n",
        "                                random_state = 1)\n",
        "\n",
        "df_8_train, df_8_test = train_test_split(df_8, \n",
        "                                train_size = split, \n",
        "                                random_state = 1)\n",
        "\n",
        "df_9_train, df_9_test = train_test_split(df_9, \n",
        "                                train_size = split, \n",
        "                                random_state = 1)\n",
        "\n",
        "df_10_train, df_10_test = train_test_split(df_10, \n",
        "                                train_size = split, \n",
        "                                random_state = 1)\n",
        "\n",
        "df_11_train, df_11_test = train_test_split(df_11, \n",
        "                                train_size = split, \n",
        "                                random_state = 1)\n",
        "\n",
        "df_12_train, df_12_test = train_test_split(df_12, \n",
        "                                train_size = split, \n",
        "                                random_state = 1)\n",
        "\n",
        "df_13_train, df_13_test = train_test_split(sampled_13_df, \n",
        "                                train_size = split, \n",
        "                                random_state = 1)\n",
        "\n",
        "df_14_train, df_14_test = train_test_split(df_14, \n",
        "                                train_size = split, \n",
        "                                random_state = 1)\n",
        "\n",
        "df_15_train, df_15_test = train_test_split(df_15, \n",
        "                                train_size = split, \n",
        "                                random_state = 1)\n",
        "\n",
        "df_16_train, df_16_test = train_test_split(df_16, \n",
        "                                train_size = split, \n",
        "                                random_state = 1)\n",
        "\n",
        "df_17_train, df_17_test = train_test_split(df_17, \n",
        "                                train_size = split, \n",
        "                                random_state = 1)\n",
        "\n",
        "df_18_train, df_18_test = train_test_split(sampled_18_df, \n",
        "                                train_size = split, \n",
        "                                random_state = 1)\n",
        "\n",
        "\n",
        "df_19_train, df_19_test = train_test_split(df_19, \n",
        "                                train_size = split, \n",
        "                                random_state = 1)"
      ],
      "execution_count": null,
      "outputs": []
    },
    {
      "cell_type": "code",
      "metadata": {
        "id": "saoaT3LzrisK"
      },
      "source": [
        "df_train = pd.concat([df_0_train,\n",
        "                      df_1_train, \n",
        "                      df_2_train, \n",
        "                      df_3_train, \n",
        "                      df_4_train, \n",
        "                      df_5_train, \n",
        "                      df_6_train, \n",
        "                      df_7_train, \n",
        "                      df_8_train,\n",
        "                      df_9_train, \n",
        "                      df_10_train,\n",
        "                      df_11_train, \n",
        "                      df_12_train, \n",
        "                      df_13_train, \n",
        "                      df_14_train, \n",
        "                      df_15_train, \n",
        "                      df_16_train, \n",
        "                      df_17_train, \n",
        "                      df_18_train, \n",
        "                      df_19_train], ignore_index=True, sort=False)\n",
        "\n",
        "df_test = pd.concat([df_0_test,\n",
        "                      df_1_test, \n",
        "                      df_2_test, \n",
        "                      df_3_test, \n",
        "                      df_4_test, \n",
        "                      df_5_test, \n",
        "                      df_6_test, \n",
        "                      df_7_test, \n",
        "                      df_8_test,\n",
        "                      df_9_test, \n",
        "                      df_10_test,\n",
        "                      df_11_test, \n",
        "                      df_12_test, \n",
        "                      df_13_test, \n",
        "                      df_14_test, \n",
        "                      df_15_test, \n",
        "                      df_16_test, \n",
        "                      df_17_test, \n",
        "                      df_18_test, \n",
        "                      df_19_test], ignore_index=True, sort=False)"
      ],
      "execution_count": null,
      "outputs": []
    },
    {
      "cell_type": "code",
      "metadata": {
        "id": "xiv0I3pdpYdS"
      },
      "source": [
        "df_train = df_train.sample(frac=1).reset_index(drop=True)\n",
        "df_test = df_test.sample(frac=1).reset_index(drop=True)"
      ],
      "execution_count": null,
      "outputs": []
    },
    {
      "cell_type": "markdown",
      "metadata": {
        "id": "qxmkwUnmf8J7"
      },
      "source": [
        ""
      ]
    },
    {
      "cell_type": "markdown",
      "metadata": {
        "id": "K7sSC1B4f8YG"
      },
      "source": [
        ""
      ]
    },
    {
      "cell_type": "code",
      "metadata": {
        "id": "ttqFSbwFf8m9",
        "colab": {
          "base_uri": "https://localhost:8080/",
          "height": 1000
        },
        "outputId": "dbd5dea4-9328-4296-e4f7-b2a7f871c75f"
      },
      "source": [
        "df_train.sample(5)"
      ],
      "execution_count": null,
      "outputs": [
        {
          "output_type": "execute_result",
          "data": {
            "text/html": [
              "<div>\n",
              "<style scoped>\n",
              "    .dataframe tbody tr th:only-of-type {\n",
              "        vertical-align: middle;\n",
              "    }\n",
              "\n",
              "    .dataframe tbody tr th {\n",
              "        vertical-align: top;\n",
              "    }\n",
              "\n",
              "    .dataframe thead th {\n",
              "        text-align: right;\n",
              "    }\n",
              "</style>\n",
              "<table border=\"1\" class=\"dataframe\">\n",
              "  <thead>\n",
              "    <tr style=\"text-align: right;\">\n",
              "      <th></th>\n",
              "      <th>cord_uid</th>\n",
              "      <th>source_x</th>\n",
              "      <th>title</th>\n",
              "      <th>license</th>\n",
              "      <th>abstract</th>\n",
              "      <th>publish_year</th>\n",
              "      <th>authors</th>\n",
              "      <th>journal</th>\n",
              "      <th>url</th>\n",
              "      <th>word_count</th>\n",
              "      <th>abstract_clean</th>\n",
              "      <th>topic</th>\n",
              "      <th>topic_resid</th>\n",
              "    </tr>\n",
              "  </thead>\n",
              "  <tbody>\n",
              "    <tr>\n",
              "      <th>76853</th>\n",
              "      <td>imyvmgdk</td>\n",
              "      <td>['Medline', ' PMC']</td>\n",
              "      <td>Preventive behaviors, beliefs, and anxieties in relation to the swine flu outbreak among college students aged 18–24 years</td>\n",
              "      <td>no-cc</td>\n",
              "      <td>AIM: The objective of this study was to assess beliefs, misconception, and anxiety in relation to swine flu outbreak and whether perception of the outbreak predicted changes in behavior. SUBJECT AND METHODS: In November 2009, we conducted an Internet-based cross-sectional survey of college students aged 18–24 years in a Midwestern State in the USA. We collected information on swine flu knowledge, perception on immunization safety, perceived efficacy of recommended behavior, changed behavior, and anxiety. RESULTS: Of the 236 respondents, 83.1% had some anxiety about swine flu, 64.8% believe...</td>\n",
              "      <td>2010</td>\n",
              "      <td>['Kanadiya Mehulkumar K.', ' Sallar Anthony M.']</td>\n",
              "      <td>Z Gesundh Wiss</td>\n",
              "      <td>https://doi.org/10.1007/s10389-010-0373-3; https://www.ncbi.nlm.nih.gov/pubmed/32215244/</td>\n",
              "      <td>197</td>\n",
              "      <td>AIM objective study assess beliefs misconception anxiety relation swine flu outbreak whether perception outbreak predicted changes behavior. SUBJECT AND METHODS November. conducted Internet-based cross-sectional survey college students aged. years Midwestern State USA. collected information swine fl</td>\n",
              "      <td>13</td>\n",
              "      <td>0.995595</td>\n",
              "    </tr>\n",
              "    <tr>\n",
              "      <th>89819</th>\n",
              "      <td>w996v6od</td>\n",
              "      <td>['Medline']</td>\n",
              "      <td>[COVID-19 andcardiovascular diseases].</td>\n",
              "      <td>unk</td>\n",
              "      <td>COVID-2019 disease mainly affects the respiratory tract and can progress in severe cases to pneumonia, acute respiratory distress syndrome and multi-organ failure. Patients with prior cardiovascular disease are at higher risk of developing an infection and progressing to a severe form of the disease. Also, due to the growing number of infected cases, it is clear that, in addition to the typical respiratory symptoms caused by the infection, some patients suffer from cardiovascular damage. This condition can, in fact, cause significant myocardial damage, which worsens the disease and affects...</td>\n",
              "      <td>2020</td>\n",
              "      <td>['Haeck G', ' Ancion A', ' Marechal P', ' Oury C', ' Lancellotti P']</td>\n",
              "      <td>Revue medicale de Liege</td>\n",
              "      <td>https://www.ncbi.nlm.nih.gov/pubmed/32267110/</td>\n",
              "      <td>120</td>\n",
              "      <td>COVID- disease mainly affects respiratory tract progress severe cases pneumonia acute respiratory distress syndrome multi-organ failure. Patients prior cardiovascular disease higher risk developing infection progressing severe form disease. Also due growing number infected cases clear that addition</td>\n",
              "      <td>19</td>\n",
              "      <td>0.974920</td>\n",
              "    </tr>\n",
              "    <tr>\n",
              "      <th>38531</th>\n",
              "      <td>e8t1xn8h</td>\n",
              "      <td>['Medline']</td>\n",
              "      <td>The history of ultraviolet germicidal irradiation for air disinfection.</td>\n",
              "      <td>unk</td>\n",
              "      <td>Public health concerns such as multi- and extensive drug-resistant tuberculosis, bioterrorism, pandemic influenza, and severe acute respiratory syndrome have intensified efforts to prevent transmission of infections that are completely or partially airborne using environmental controls. One such control, ultraviolet germicidal irradiation (UVGI), has received renewed interest after decades of underutilization and neglect. With renewed interest, however, come renewed questions, especially regarding efficacy and safety. There is a long history of investigations concluding that, if used prope...</td>\n",
              "      <td>2010</td>\n",
              "      <td>['Reed Nicholas G']</td>\n",
              "      <td>Public health reports</td>\n",
              "      <td>https://www.ncbi.nlm.nih.gov/pubmed/20402193/</td>\n",
              "      <td>153</td>\n",
              "      <td>Public health concerns multi- extensive drug-resistant tuberculosis bioterrorism pandemic influenza severe acute respiratory syndrome intensified efforts prevent transmission infections completely partially airborne using environmental controls. One control ultraviolet germicidal irradiation UVGI re</td>\n",
              "      <td>6</td>\n",
              "      <td>0.977660</td>\n",
              "    </tr>\n",
              "    <tr>\n",
              "      <th>91257</th>\n",
              "      <td>t319flz3</td>\n",
              "      <td>['Medline', ' PMC']</td>\n",
              "      <td>The unique characteristics of COVID-19 coagulopathy</td>\n",
              "      <td>cc-by</td>\n",
              "      <td>Thrombotic complications and coagulopathy frequently occur in COVID-19. However, the characteristics of COVID-19-associated coagulopathy (CAC) are distinct from those seen with bacterial sepsis-induced coagulopathy (SIC) and disseminated intravascular coagulation (DIC), with CAC usually showing increased D-dimer and fibrinogen levels but initially minimal abnormalities in prothrombin time and platelet count. Venous thromboembolism and arterial thrombosis are more frequent in CAC compared to SIC/DIC. Clinical and laboratory features of CAC overlap somewhat with a hemophagocytic syndrome, an...</td>\n",
              "      <td>2020</td>\n",
              "      <td>['Iba Toshiaki', ' Levy Jerrold H.', ' Connors Jean Marie', ' Warkentin Theodore E.', ' Thachil Jecko', ' Levi Marcel']</td>\n",
              "      <td>Crit Care</td>\n",
              "      <td>https://doi.org/10.1186/s13054-020-03077-0; https://www.ncbi.nlm.nih.gov/pubmed/32552865/</td>\n",
              "      <td>100</td>\n",
              "      <td>Thrombotic complications coagulopathy frequently occur COVID-. However characteristics COVID--associated coagulopathy CAC distinct seen bacterial sepsis-induced coagulopathy SIC disseminated intravascular coagulation DIC CAC usually showing increased D-dimer fibrinogen levels initially minimal abnor</td>\n",
              "      <td>19</td>\n",
              "      <td>0.998563</td>\n",
              "    </tr>\n",
              "    <tr>\n",
              "      <th>89240</th>\n",
              "      <td>ocr0hupr</td>\n",
              "      <td>['WHO']</td>\n",
              "      <td>Evaluation of Risk Factors for Exacerbations in Children with Adenoviral Pneumonia</td>\n",
              "      <td>unk</td>\n",
              "      <td>Purpose: The aim of this work was to analyze clinical features and laboratory findings of children with adenovirus pneumonia and guide clinical diagnosis, treatment, and assessment of disease severity. Material and Methods. Retrospective analysis of clinical data of 285 children with adenoviral pneumonia who were hospitalized in Wuhan Children's Hospital from December 2018 to October 2019. According to the assessment criteria for severe pneumonia, it was divided into the severe group (92 cases) and the nonsevere group (193 cases). Collected clinical manifestations, complications, and labor...</td>\n",
              "      <td>2020</td>\n",
              "      <td>['Xu Na', ' Chen Peng', ' Wang Ying']</td>\n",
              "      <td>Biomed Res Int</td>\n",
              "      <td>NaN</td>\n",
              "      <td>207</td>\n",
              "      <td>Purpose aim work analyze clinical features laboratory findings children adenovirus pneumonia guide clinical diagnosis treatment assessment disease severity. Material Methods. Retrospective analysis clinical data children adenoviral pneumonia hospitalized Wuhan Childrens Hospital December October. Ac</td>\n",
              "      <td>13</td>\n",
              "      <td>0.992723</td>\n",
              "    </tr>\n",
              "  </tbody>\n",
              "</table>\n",
              "</div>"
            ],
            "text/plain": [
              "       cord_uid             source_x  ... topic topic_resid\n",
              "76853  imyvmgdk  ['Medline', ' PMC']  ...    13    0.995595\n",
              "89819  w996v6od          ['Medline']  ...    19    0.974920\n",
              "38531  e8t1xn8h          ['Medline']  ...     6    0.977660\n",
              "91257  t319flz3  ['Medline', ' PMC']  ...    19    0.998563\n",
              "89240  ocr0hupr              ['WHO']  ...    13    0.992723\n",
              "\n",
              "[5 rows x 13 columns]"
            ]
          },
          "metadata": {
            "tags": []
          },
          "execution_count": 19
        }
      ]
    },
    {
      "cell_type": "code",
      "metadata": {
        "id": "8CIQ819vgSKe",
        "colab": {
          "base_uri": "https://localhost:8080/",
          "height": 498
        },
        "outputId": "3e63e2b9-ffad-4fbb-b7fe-aac3f72f9cea"
      },
      "source": [
        "df_train.groupby(\"topic\").count()['cord_uid'].sort_index(ascending=True,) \\\n",
        ".plot.bar(figsize=(15,8))"
      ],
      "execution_count": null,
      "outputs": [
        {
          "output_type": "execute_result",
          "data": {
            "text/plain": [
              "<matplotlib.axes._subplots.AxesSubplot at 0x7fdb0a80c898>"
            ]
          },
          "metadata": {
            "tags": []
          },
          "execution_count": 20
        },
        {
          "output_type": "display_data",
          "data": {
            "image/png": "[encoded data removed]",
            "text/plain": [
              "<Figure size 1080x576 with 1 Axes>"
            ]
          },
          "metadata": {
            "tags": [],
            "needs_background": "light"
          }
        }
      ]
    },
    {
      "cell_type": "markdown",
      "metadata": {
        "id": "rc-GqfkLgBuc"
      },
      "source": [
        ""
      ]
    },
    {
      "cell_type": "code",
      "metadata": {
        "id": "c6RRmVf1f-fd",
        "colab": {
          "base_uri": "https://localhost:8080/",
          "height": 1000
        },
        "outputId": "e530ae7a-68f3-46a6-c629-3250737de0fb"
      },
      "source": [
        "df_test.sample(5)"
      ],
      "execution_count": null,
      "outputs": [
        {
          "output_type": "execute_result",
          "data": {
            "text/html": [
              "<div>\n",
              "<style scoped>\n",
              "    .dataframe tbody tr th:only-of-type {\n",
              "        vertical-align: middle;\n",
              "    }\n",
              "\n",
              "    .dataframe tbody tr th {\n",
              "        vertical-align: top;\n",
              "    }\n",
              "\n",
              "    .dataframe thead th {\n",
              "        text-align: right;\n",
              "    }\n",
              "</style>\n",
              "<table border=\"1\" class=\"dataframe\">\n",
              "  <thead>\n",
              "    <tr style=\"text-align: right;\">\n",
              "      <th></th>\n",
              "      <th>cord_uid</th>\n",
              "      <th>source_x</th>\n",
              "      <th>title</th>\n",
              "      <th>license</th>\n",
              "      <th>abstract</th>\n",
              "      <th>publish_year</th>\n",
              "      <th>authors</th>\n",
              "      <th>journal</th>\n",
              "      <th>url</th>\n",
              "      <th>word_count</th>\n",
              "      <th>abstract_clean</th>\n",
              "      <th>topic</th>\n",
              "      <th>topic_resid</th>\n",
              "    </tr>\n",
              "  </thead>\n",
              "  <tbody>\n",
              "    <tr>\n",
              "      <th>7789</th>\n",
              "      <td>yptntbea</td>\n",
              "      <td>['Medline']</td>\n",
              "      <td>A randomized clinical trial of knotless barbed suture vs conventional suture for closure of the uterine incision at cesarean delivery.</td>\n",
              "      <td>unk</td>\n",
              "      <td>BACKGROUND Knotless barbed sutures are monofilament sutures with barbs cut into them. These sutures self-anchor, maintaining tissue approximation without the need for surgical knots. OBJECTIVE The hypothesis of this study was that knotless barbed suture could be used on the myometrium to close the hysterotomy at cesarean delivery. The objective was to compare uterine closure time, need for additional sutures, and blood loss between this and a conventional suture. STUDY DESIGN This was a prospective, unblinded, randomized controlled trial conducted at the Ziv Medical Center, Zefat, Israel. ...</td>\n",
              "      <td>2018</td>\n",
              "      <td>['Peleg David', ' Ahmad Ronan Said', ' Warsof Steven L', ' Marcus-Braun Naama', ' Sciaky-Tamir Yael', ' Ben Shachar Inbar']</td>\n",
              "      <td>American journal of obstetrics and gynecology</td>\n",
              "      <td>https://doi.org/10.1016/j.ajog.2018.01.043; https://www.ncbi.nlm.nih.gov/pubmed/29496259/</td>\n",
              "      <td>318</td>\n",
              "      <td>BACKGROUND Knotless barbed sutures monofilament sutures barbs cut them. sutures self-anchor maintaining tissue approximation without need surgical knots. OBJECTIVE hypothesis study knotless barbed suture could used myometrium close hysterotomy cesarean delivery. objective compare uterine closure tim</td>\n",
              "      <td>3</td>\n",
              "      <td>0.998011</td>\n",
              "    </tr>\n",
              "    <tr>\n",
              "      <th>2758</th>\n",
              "      <td>tiw8lxzq</td>\n",
              "      <td>['Medline']</td>\n",
              "      <td>Severe colon ischemia in patients with severe coronavirus-19 (COVID-19).</td>\n",
              "      <td>unk</td>\n",
              "      <td>COVID-19 is associated with severe coagulopathy. We present three cases of colonic ischemia that can be attributed to the hypercoagulable state related with SARS-CoV2 and disseminated intravascular coagulation. Three males aged 76, 68 and 56 with respiratory distress presented episodes of rectal bleeding, abdominal distension and signs of peritoneal irritation. Endoscopy (case 1) and computed tomography angiography revealed colonic ischemia. One patient (case 2) in which a computed tomography (CT) scan showed perforation of the gangrenous cecum underwent surgery. D-dimer levels were marked...</td>\n",
              "      <td>2020</td>\n",
              "      <td>['Almeida Vargas Ana', ' Valentí Víctor', ' Sánchez Justicia Carlos', ' Martínez Regueira Fernando', ' Martí Cruchaga Pablo', ' Luján Colás Juan', ' Aliseda Jover Daniel', ' Esteban Gordillo Sara', ' Cienfuegos Javier A', ' Rotellar Sastre Fernando']</td>\n",
              "      <td>Revista espanola de enfermedades digestivas : organo oficial de la Sociedad Espanola de Patologia Digestiva</td>\n",
              "      <td>https://doi.org/10.17235/reed.2020.7329/2020; https://www.ncbi.nlm.nih.gov/pubmed/32954769/</td>\n",
              "      <td>100</td>\n",
              "      <td>COVID- associated severe coagulopathy. present three cases colonic ischemia attributed hypercoagulable state related SARS-CoV disseminated intravascular coagulation. Three males aged. respiratory distress presented episodes rectal bleeding abdominal distension signs peritoneal irritation. Endoscopy</td>\n",
              "      <td>19</td>\n",
              "      <td>0.992324</td>\n",
              "    </tr>\n",
              "    <tr>\n",
              "      <th>6031</th>\n",
              "      <td>yd3nmqmb</td>\n",
              "      <td>['Medline', ' PMC']</td>\n",
              "      <td>SARS-CoV-2 induces transcriptional signatures in human lung epithelial cells that promote lung fibrosis</td>\n",
              "      <td>cc-by</td>\n",
              "      <td>BACKGROUND: Severe acute respiratory syndrome (SARS)-CoV-2-induced coronavirus disease-2019 (COVID-19) is a pandemic disease that affects &gt; 2.8 million people worldwide, with numbers increasing dramatically daily. However, there is no specific treatment for COVID-19 and much remains unknown about this disease. Angiotensin-converting enzyme (ACE)2 is a cellular receptor of SARS-CoV-2. It is cleaved by type II transmembrane serine protease (TMPRSS)2 and disintegrin and metallopeptidase domain (ADAM)17 to assist viral entry into host cells. Clinically, SARS-CoV-2 infection may result in acute...</td>\n",
              "      <td>2020</td>\n",
              "      <td>['Xu Jincheng', ' Xu Xiaoyue', ' Jiang Lina', ' Dua Kamal', ' Hansbro Philip M.', ' Liu Gang']</td>\n",
              "      <td>Respir Res</td>\n",
              "      <td>https://doi.org/10.1186/s12931-020-01445-6; https://www.ncbi.nlm.nih.gov/pubmed/32664949/</td>\n",
              "      <td>236</td>\n",
              "      <td>BACKGROUND Severe acute respiratory syndrome SARS-CoV--induced coronavirus disease- COVID- pandemic disease affects million people worldwide numbers increasing dramatically daily. However specific treatment COVID- much remains unknown disease. Angiotensin-converting enzyme ACE cellular receptor SARS</td>\n",
              "      <td>14</td>\n",
              "      <td>0.937532</td>\n",
              "    </tr>\n",
              "    <tr>\n",
              "      <th>6515</th>\n",
              "      <td>vmwywjwx</td>\n",
              "      <td>['Medline']</td>\n",
              "      <td>A randomized controlled pilot study to evaluate the effect of an enteral formulation designed to improve gastrointestinal tolerance in the critically ill patient-the SPIRIT trial.</td>\n",
              "      <td>cc-by</td>\n",
              "      <td>BACKGROUND Diarrhea is frequent in patients in intensive care units (ICU) and is associated with discomfort and complications and may increase the length of stay and nursing workload. METHODS This was a prospective, double-blind, randomized, controlled single-center pilot study to assess the incidence and frequency of diarrhea and the respective effects of a modified enteral diet (intervention: Peptamen® AF, rich in proteins, medium chain triglycerides and fish oil) compared to a standard diet (control: Isosource® Energy) in 90 randomized adult patients (intervention, n = 46; control, n = ...</td>\n",
              "      <td>2017</td>\n",
              "      <td>['Jakob Stephan M', ' Bütikofer Lukas', ' Berger David', ' Coslovsky Michael', ' Takala Jukka']</td>\n",
              "      <td>Critical care</td>\n",
              "      <td>https://doi.org/10.1186/s13054-017-1730-1; https://www.ncbi.nlm.nih.gov/pubmed/28599662/</td>\n",
              "      <td>371</td>\n",
              "      <td>BACKGROUND Diarrhea frequent patients intensive care units ICU associated discomfort complications may increase length stay nursing workload. METHODS prospective double-blind randomized controlled single-center pilot study assess incidence frequency diarrhea respective effects modified enteral diet</td>\n",
              "      <td>17</td>\n",
              "      <td>0.989163</td>\n",
              "    </tr>\n",
              "    <tr>\n",
              "      <th>5657</th>\n",
              "      <td>okbupw61</td>\n",
              "      <td>['Medline', ' PMC']</td>\n",
              "      <td>Marine Algal Antioxidants as Potential Vectors for Controlling Viral Diseases</td>\n",
              "      <td>cc-by</td>\n",
              "      <td>As the COVID-19 epidemic expands in the world, and with the previous SARS epidemic, avian flu, Ebola and AIDS serving as a warning, biomedical and biotechnological research has the task to find solutions to counteract viral entry and pathogenesis. A novel approach can come from marine chemodiversity, recognized as a relevant source for developing a future natural “antiviral pharmacy”. Activities of antioxidants against viruses can be exploited to cope with human viral infection, from single individual infections to protection of populations. There is a potentially rich and fruitful reservo...</td>\n",
              "      <td>2020</td>\n",
              "      <td>['Sansone Clementina', ' Brunet Christophe', ' Noonan Douglas M.', ' Albini Adriana']</td>\n",
              "      <td>Antioxidants (Basel)</td>\n",
              "      <td>https://doi.org/10.3390/antiox9050392; https://www.ncbi.nlm.nih.gov/pubmed/32392759/</td>\n",
              "      <td>198</td>\n",
              "      <td>COVID- epidemic expands world previous SARS epidemic avian flu Ebola AIDS serving warning biomedical biotechnological research task find solutions counteract viral entry pathogenesis. novel approach come marine chemodiversity recognized relevant source developing future natural “antiviral pharmacy”.</td>\n",
              "      <td>18</td>\n",
              "      <td>0.995932</td>\n",
              "    </tr>\n",
              "  </tbody>\n",
              "</table>\n",
              "</div>"
            ],
            "text/plain": [
              "      cord_uid             source_x  ... topic topic_resid\n",
              "7789  yptntbea          ['Medline']  ...     3    0.998011\n",
              "2758  tiw8lxzq          ['Medline']  ...    19    0.992324\n",
              "6031  yd3nmqmb  ['Medline', ' PMC']  ...    14    0.937532\n",
              "6515  vmwywjwx          ['Medline']  ...    17    0.989163\n",
              "5657  okbupw61  ['Medline', ' PMC']  ...    18    0.995932\n",
              "\n",
              "[5 rows x 13 columns]"
            ]
          },
          "metadata": {
            "tags": []
          },
          "execution_count": 21
        }
      ]
    },
    {
      "cell_type": "code",
      "metadata": {
        "id": "KPjZKBoUtLe1",
        "colab": {
          "base_uri": "https://localhost:8080/",
          "height": 502
        },
        "outputId": "3a131e14-1752-491a-88d1-a62a0054c77f"
      },
      "source": [
        "df_test.groupby(\"topic\").count()['cord_uid'].sort_index(ascending=True,) \\\n",
        ".plot.bar(figsize=(15,8))"
      ],
      "execution_count": null,
      "outputs": [
        {
          "output_type": "execute_result",
          "data": {
            "text/plain": [
              "<matplotlib.axes._subplots.AxesSubplot at 0x7fdb0a77b9b0>"
            ]
          },
          "metadata": {
            "tags": []
          },
          "execution_count": 23
        },
        {
          "output_type": "display_data",
          "data": {
            "image/png": "[encoded data removed]",
            "text/plain": [
              "<Figure size 1080x576 with 1 Axes>"
            ]
          },
          "metadata": {
            "tags": [],
            "needs_background": "light"
          }
        }
      ]
    },
    {
      "cell_type": "markdown",
      "metadata": {
        "id": "yEz_R464gAf_"
      },
      "source": [
        ""
      ]
    },
    {
      "cell_type": "code",
      "metadata": {
        "id": "gnkJeqm9dVbe",
        "colab": {
          "base_uri": "https://localhost:8080/",
          "height": 364
        },
        "outputId": "4836312b-3efb-4175-ecbf-8868cc8a6335"
      },
      "source": [
        "all_data = pd.concat([df_train, df_test], axis=0)[['abstract_clean', \"topic\"]]\n",
        "all_data.sample(5)"
      ],
      "execution_count": null,
      "outputs": [
        {
          "output_type": "execute_result",
          "data": {
            "text/html": [
              "<div>\n",
              "<style scoped>\n",
              "    .dataframe tbody tr th:only-of-type {\n",
              "        vertical-align: middle;\n",
              "    }\n",
              "\n",
              "    .dataframe tbody tr th {\n",
              "        vertical-align: top;\n",
              "    }\n",
              "\n",
              "    .dataframe thead th {\n",
              "        text-align: right;\n",
              "    }\n",
              "</style>\n",
              "<table border=\"1\" class=\"dataframe\">\n",
              "  <thead>\n",
              "    <tr style=\"text-align: right;\">\n",
              "      <th></th>\n",
              "      <th>abstract_clean</th>\n",
              "      <th>topic</th>\n",
              "    </tr>\n",
              "  </thead>\n",
              "  <tbody>\n",
              "    <tr>\n",
              "      <th>3759</th>\n",
              "      <td>PURPOSE REVIEW study aims review history human immunodeficiency virus HIV infection epidemic China. RECENT FINDINGS HIV infection epidemic China evolved significantly past years initially exclusively within people inject drugs PWID outbreaks due plasma collection contamination mid-s almost exclusive</td>\n",
              "      <td>9</td>\n",
              "    </tr>\n",
              "    <tr>\n",
              "      <th>14516</th>\n",
              "      <td>Whilst broad consensus COVID- pernicious impact child welfare services general child welfare workers specifically notion thoroughly examined literature. exploratory study examined COVID- related peritraumatic distress among child welfare workers one southeastern state United States U.S Findings sugg</td>\n",
              "      <td>8</td>\n",
              "    </tr>\n",
              "    <tr>\n",
              "      <th>1383</th>\n",
              "      <td>first human virus genus Cardiovirus described named Saffold virus SAFV. Cardioviruses cause severe infections myocardium central nervous system animals SAFV yet convincingly associated disease humans. study possible association SAFV infections human central nervous system designed real-time PCR SAFV</td>\n",
              "      <td>2</td>\n",
              "    </tr>\n",
              "    <tr>\n",
              "      <th>31316</th>\n",
              "      <td>OBJECTIVE compare severity psychological distress patients epilepsy healthy controls COVID‐ outbreak southwest China well identify potential risk factors severe psychological distress among patients epilepsy. METHODS cross‐sectional case‐control study examined consecutive sample patients older years</td>\n",
              "      <td>13</td>\n",
              "    </tr>\n",
              "    <tr>\n",
              "      <th>106378</th>\n",
              "      <td>Abstract frequent occurrence irregular events recent years tourism industry areas Hong Kong suffered great volatility. enhance predictive accuracy tourism demand forecasting decomposition-ensemble approach developed based complete ensemble empirical mode decomposition adaptive noise data characteris</td>\n",
              "      <td>18</td>\n",
              "    </tr>\n",
              "  </tbody>\n",
              "</table>\n",
              "</div>"
            ],
            "text/plain": [
              "                                                                                                                                                                                                                                                                                                      abstract_clean  topic\n",
              "3759    PURPOSE REVIEW study aims review history human immunodeficiency virus HIV infection epidemic China. RECENT FINDINGS HIV infection epidemic China evolved significantly past years initially exclusively within people inject drugs PWID outbreaks due plasma collection contamination mid-s almost exclusive      9\n",
              "14516   Whilst broad consensus COVID- pernicious impact child welfare services general child welfare workers specifically notion thoroughly examined literature. exploratory study examined COVID- related peritraumatic distress among child welfare workers one southeastern state United States U.S Findings sugg      8\n",
              "1383    first human virus genus Cardiovirus described named Saffold virus SAFV. Cardioviruses cause severe infections myocardium central nervous system animals SAFV yet convincingly associated disease humans. study possible association SAFV infections human central nervous system designed real-time PCR SAFV      2\n",
              "31316   OBJECTIVE compare severity psychological distress patients epilepsy healthy controls COVID‐ outbreak southwest China well identify potential risk factors severe psychological distress among patients epilepsy. METHODS cross‐sectional case‐control study examined consecutive sample patients older years     13\n",
              "106378  Abstract frequent occurrence irregular events recent years tourism industry areas Hong Kong suffered great volatility. enhance predictive accuracy tourism demand forecasting decomposition-ensemble approach developed based complete ensemble empirical mode decomposition adaptive noise data characteris     18"
            ]
          },
          "metadata": {
            "tags": []
          },
          "execution_count": 24
        }
      ]
    },
    {
      "cell_type": "markdown",
      "metadata": {
        "id": "R8pDPViddh_-"
      },
      "source": [
        ""
      ]
    },
    {
      "cell_type": "code",
      "metadata": {
        "id": "ckbq8WvydaHR"
      },
      "source": [
        "dls_lm = DataBlock(\n",
        "    blocks=TextBlock.from_df('abstract_clean', is_lm=True),\n",
        "    get_x=ColReader('text'), \n",
        "    splitter=RandomSplitter(0.10) # using only 10% of entire comments data for validation inorder to learn more\n",
        ")"
      ],
      "execution_count": null,
      "outputs": []
    },
    {
      "cell_type": "code",
      "metadata": {
        "id": "EC6JxBDrdaRr",
        "colab": {
          "base_uri": "https://localhost:8080/",
          "height": 16
        },
        "outputId": "45bef042-af5a-481f-b6b8-61f081bdded3"
      },
      "source": [
        "bs=16\n",
        "MAX_SEQ_LEN = 300\n",
        "dls = dls_lm.dataloaders(all_data,\n",
        "                         bs=bs,\n",
        "                         seq_len=MAX_SEQ_LEN,\n",
        "                         before_batch=partial(pad_input_chunk, \n",
        "                                             pad_first=False))"
      ],
      "execution_count": null,
      "outputs": [
        {
          "output_type": "display_data",
          "data": {
            "text/html": [
              ""
            ],
            "text/plain": [
              "<IPython.core.display.HTML object>"
            ]
          },
          "metadata": {
            "tags": []
          }
        }
      ]
    },
    {
      "cell_type": "code",
      "metadata": {
        "id": "KsbkS_pRdp4d",
        "colab": {
          "base_uri": "https://localhost:8080/",
          "height": 1000
        },
        "outputId": "4627da57-9027-4e30-c3b3-2792e4ca1d83"
      },
      "source": [
        "dls.show_batch(max_n=5)"
      ],
      "execution_count": null,
      "outputs": [
        {
          "output_type": "display_data",
          "data": {
            "text/html": [
              "<table border=\"1\" class=\"dataframe\">\n",
              "  <thead>\n",
              "    <tr style=\"text-align: right;\">\n",
              "      <th></th>\n",
              "      <th>text</th>\n",
              "      <th>text_</th>\n",
              "    </tr>\n",
              "  </thead>\n",
              "  <tbody>\n",
              "    <tr>\n",
              "      <th>0</th>\n",
              "      <td>xxbos xxup background xxmaj rapid molecular methods created new opportunities clinical microbiology laboratory affect patient care areas initial diagnosis therapy . xxmaj rapid diagnostic tests provide collaborative opportunities antimicrobial stewardship xxmaj teams xxup ast improve patient outcomes decrease antimicrobial use . xxmaj janua xxbos xxmaj spike protein important membrane protein surface severe acute respiratory syndrome coronavirus sars - cov . associates cellular receptors mediate infection target cells . xxmaj inspired mechanism in - depth investigation genome sequences protein sars - cov receptor conducted thru mathematical transformation graph xxbos two - dimensional xxmaj xxunk model degree manipulability known aggregation procedures based majority relation evaluated using xxunk - xxunk index . xxmaj extended preferences multi - valued choices used evaluate fact manipulation . xxmaj individual manipulability agents considered manipulating agent moves ideal point pl xxbos xxup background xxmaj end - of - life care provided variety healthcare settings palliative care hospitals .</td>\n",
              "      <td>xxup background xxmaj rapid molecular methods created new opportunities clinical microbiology laboratory affect patient care areas initial diagnosis therapy . xxmaj rapid diagnostic tests provide collaborative opportunities antimicrobial stewardship xxmaj teams xxup ast improve patient outcomes decrease antimicrobial use . xxmaj janua xxbos xxmaj spike protein important membrane protein surface severe acute respiratory syndrome coronavirus sars - cov . associates cellular receptors mediate infection target cells . xxmaj inspired mechanism in - depth investigation genome sequences protein sars - cov receptor conducted thru mathematical transformation graph xxbos two - dimensional xxmaj xxunk model degree manipulability known aggregation procedures based majority relation evaluated using xxunk - xxunk index . xxmaj extended preferences multi - valued choices used evaluate fact manipulation . xxmaj individual manipulability agents considered manipulating agent moves ideal point pl xxbos xxup background xxmaj end - of - life care provided variety healthcare settings palliative care hospitals . one</td>\n",
              "    </tr>\n",
              "    <tr>\n",
              "      <th>1</th>\n",
              "      <td>widely used experimental work providing rodent model human ocular disease species toxicologic screening . addition rat widely kept pet friendly intelligent . xxmaj diagnosis treatment ocular disease important welfare individual animals whole colonies also ensure spontaneous disease com xxbos xxmaj dynamic changes xxup rna antibodies sars - cov- infected patients remain largely unknown influence factors antibody production fully clarified . study enrolled cases xxup covid- controls . xxmaj consecutive throat swabs specimens patients collected analyzed dynamic changes xxup rna . xxmaj moreover serial serum samples patients te xxbos xxup objective develop loop - mediated isothermal amplification xxup lamp assay detection xxmaj entamoeba histolytica histolytica causative agent xxunk . xxup methods xxup lamp primer set designed histolytica xxunk gene xxup xxunk . xxmaj genomic xxup dna histolytica xxunk strain used optimize xxup lamp mixture conditions . xxmaj amplification xxbos xxup covid- pandemic adversely affected general healthcare delivery systems cancer care throughout</td>\n",
              "      <td>used experimental work providing rodent model human ocular disease species toxicologic screening . addition rat widely kept pet friendly intelligent . xxmaj diagnosis treatment ocular disease important welfare individual animals whole colonies also ensure spontaneous disease com xxbos xxmaj dynamic changes xxup rna antibodies sars - cov- infected patients remain largely unknown influence factors antibody production fully clarified . study enrolled cases xxup covid- controls . xxmaj consecutive throat swabs specimens patients collected analyzed dynamic changes xxup rna . xxmaj moreover serial serum samples patients te xxbos xxup objective develop loop - mediated isothermal amplification xxup lamp assay detection xxmaj entamoeba histolytica histolytica causative agent xxunk . xxup methods xxup lamp primer set designed histolytica xxunk gene xxup xxunk . xxmaj genomic xxup dna histolytica xxunk strain used optimize xxup lamp mixture conditions . xxmaj amplification xxbos xxup covid- pandemic adversely affected general healthcare delivery systems cancer care throughout world</td>\n",
              "    </tr>\n",
              "    <tr>\n",
              "      <th>2</th>\n",
              "      <td>xxmaj covid- may result neuromuscular disorders damage nerves outside brain spinal cord may lead weakness numbness pain . xxmaj published literature stated xxup sars - cov- m xxbos xxup background xxmaj pulsed electromagnetic fields xxup pemf stimulation used successfully treat nonunion fractures femoral head osteonecrosis relatively little known effects preventing steroid - induced osteonecrosis . purpose study investigate effects xxup pemf stimulation prevention steroid - induced osteonecrosis rats e xxbos xxmaj abstract xxmaj although limited percentage genome produces proteins approximately . transcribed indicating important roles noncoding xxup rna ncrna . known ncrnas multitude cellular functions ranging regulation gene expression roles structural elements ribonucleoprotein complexes . ncrna also represented nearly e xxbos report first successful short - term outcome single - stage combined video - assisted thoracoscopic surgery lobectomy port access surgery patient operable primary right lower lobe adenocarcinoma synchronous cardiac myxoma . video - assisted thoracic surgery right lower lobectomy</td>\n",
              "      <td>covid- may result neuromuscular disorders damage nerves outside brain spinal cord may lead weakness numbness pain . xxmaj published literature stated xxup sars - cov- m xxbos xxup background xxmaj pulsed electromagnetic fields xxup pemf stimulation used successfully treat nonunion fractures femoral head osteonecrosis relatively little known effects preventing steroid - induced osteonecrosis . purpose study investigate effects xxup pemf stimulation prevention steroid - induced osteonecrosis rats e xxbos xxmaj abstract xxmaj although limited percentage genome produces proteins approximately . transcribed indicating important roles noncoding xxup rna ncrna . known ncrnas multitude cellular functions ranging regulation gene expression roles structural elements ribonucleoprotein complexes . ncrna also represented nearly e xxbos report first successful short - term outcome single - stage combined video - assisted thoracoscopic surgery lobectomy port access surgery patient operable primary right lower lobe adenocarcinoma synchronous cardiac myxoma . video - assisted thoracic surgery right lower lobectomy systematic</td>\n",
              "    </tr>\n",
              "    <tr>\n",
              "      <th>3</th>\n",
              "      <td>bed available would prefer kept hallway xxbos broadly explore extent xxup covid- initially impacted medical learners around world examine global trends patterns across geographic regions levels training cross - sectional survey medical learners conducted xxmaj march -june th . shortly xxmaj world xxmaj health xxmaj organization declared concurrent xxup covid- pandemic . medical lea xxbos xxup background coronavirus disease xxup covid- outbreak accelerates worldwide highly significant evaluate sex - specific clinical characteristics outcomes may affect public health policies . xxup methods xxup covid- patients admitted xxmaj tongji xxmaj hospital xxmaj january and xxmaj march . evaluated . xxmaj clinical features laboratory data complica xxbos xxmaj exposure humans organophosphate flame retardants xxunk consequent health risk increased owing latters widespread application . xxmaj although xxunk phosphate xxup tpp xxup xxunk potential chemical determinant liver function damage effects kidney function mice high xxunk xxup hff diet still unclear . study xxup cblj mi</td>\n",
              "      <td>available would prefer kept hallway xxbos broadly explore extent xxup covid- initially impacted medical learners around world examine global trends patterns across geographic regions levels training cross - sectional survey medical learners conducted xxmaj march -june th . shortly xxmaj world xxmaj health xxmaj organization declared concurrent xxup covid- pandemic . medical lea xxbos xxup background coronavirus disease xxup covid- outbreak accelerates worldwide highly significant evaluate sex - specific clinical characteristics outcomes may affect public health policies . xxup methods xxup covid- patients admitted xxmaj tongji xxmaj hospital xxmaj january and xxmaj march . evaluated . xxmaj clinical features laboratory data complica xxbos xxmaj exposure humans organophosphate flame retardants xxunk consequent health risk increased owing latters widespread application . xxmaj although xxunk phosphate xxup tpp xxup xxunk potential chemical determinant liver function damage effects kidney function mice high xxunk xxup hff diet still unclear . study xxup cblj mi xxbos</td>\n",
              "    </tr>\n",
              "    <tr>\n",
              "      <th>4</th>\n",
              "      <td>xxup adrd disproportionately impact racial ethnic minority socioeconomically disadvantaged adults . xxmaj yet populations significantly underrepresented research . xxmaj methods systematically reviewed literature published reports describing recruitment retention indiv xxbos xxmaj microtubule severing enzymes implement diverse range tissue - specific molecular functions throughout development adulthood . xxmaj although microtubule severing fundamental many dynamic neural processes little known regarding role family member xxmaj xxunk . subunit xxmaj a - like . xxup xxunk central nervous system xxup cns func xxbos xxmaj influenza virus found cause respiratory diseases livestock . surveyed healthy dromedary camels xxmaj ethiopia found high seroprevalence virus contrast animals co - existing camels . observation implies dromedary camels may play important role circulation influenza virus . xxbos xxmaj chikungunya virus xxup chikv transmitted humans mosquitoes causes xxmaj chikungunya fever . xxmaj nonstructural protein nsp exhibits protease xxup rna helicase activities required viral xxup rna replication transcription . xxmaj unlike</td>\n",
              "      <td>adrd disproportionately impact racial ethnic minority socioeconomically disadvantaged adults . xxmaj yet populations significantly underrepresented research . xxmaj methods systematically reviewed literature published reports describing recruitment retention indiv xxbos xxmaj microtubule severing enzymes implement diverse range tissue - specific molecular functions throughout development adulthood . xxmaj although microtubule severing fundamental many dynamic neural processes little known regarding role family member xxmaj xxunk . subunit xxmaj a - like . xxup xxunk central nervous system xxup cns func xxbos xxmaj influenza virus found cause respiratory diseases livestock . surveyed healthy dromedary camels xxmaj ethiopia found high seroprevalence virus contrast animals co - existing camels . observation implies dromedary camels may play important role circulation influenza virus . xxbos xxmaj chikungunya virus xxup chikv transmitted humans mosquitoes causes xxmaj chikungunya fever . xxmaj nonstructural protein nsp exhibits protease xxup rna helicase activities required viral xxup rna replication transcription . xxmaj unlike xxmaj</td>\n",
              "    </tr>\n",
              "  </tbody>\n",
              "</table>"
            ],
            "text/plain": [
              "<IPython.core.display.HTML object>"
            ]
          },
          "metadata": {
            "tags": []
          }
        }
      ]
    },
    {
      "cell_type": "code",
      "metadata": {
        "id": "r2M6f_5Idvfe",
        "colab": {
          "base_uri": "https://localhost:8080/",
          "height": 16
        },
        "outputId": "ed8df92f-2ef5-4adc-83d7-ec9396f9f903"
      },
      "source": [
        "learn = language_model_learner(\n",
        "    dls, \n",
        "    AWD_LSTM,\n",
        "    drop_mult=0.8,\n",
        "    seq_len=MAX_SEQ_LEN,\n",
        "    #moms=(.85,.75,.85),\n",
        "    metrics=[accuracy, Perplexity()]).to_fp16()"
      ],
      "execution_count": null,
      "outputs": [
        {
          "output_type": "display_data",
          "data": {
            "text/html": [
              ""
            ],
            "text/plain": [
              "<IPython.core.display.HTML object>"
            ]
          },
          "metadata": {
            "tags": []
          }
        }
      ]
    },
    {
      "cell_type": "code",
      "metadata": {
        "id": "kLDUnxnkd0AI",
        "colab": {
          "base_uri": "https://localhost:8080/",
          "height": 301
        },
        "outputId": "998f3f40-116e-4422-8b01-83ca0860a4cd"
      },
      "source": [
        "learn.lr_find()"
      ],
      "execution_count": null,
      "outputs": [
        {
          "output_type": "display_data",
          "data": {
            "text/html": [
              ""
            ],
            "text/plain": [
              "<IPython.core.display.HTML object>"
            ]
          },
          "metadata": {
            "tags": []
          }
        },
        {
          "output_type": "execute_result",
          "data": {
            "text/plain": [
              "SuggestedLRs(lr_min=0.05248074531555176, lr_steep=0.02754228748381138)"
            ]
          },
          "metadata": {
            "tags": []
          },
          "execution_count": 29
        },
        {
          "output_type": "display_data",
          "data": {
            "image/png": "[encoded data removed]",
            "text/plain": [
              "<Figure size 432x288 with 1 Axes>"
            ]
          },
          "metadata": {
            "tags": [],
            "needs_background": "light"
          }
        }
      ]
    },
    {
      "cell_type": "code",
      "metadata": {
        "id": "_S2wU94Vd4oS",
        "colab": {
          "base_uri": "https://localhost:8080/",
          "height": 413
        },
        "outputId": "bff6d33c-0605-48c1-a0dc-13b03bfe485c"
      },
      "source": [
        "learn.fine_tune(6, 4e-2, cbs=SaveModelCallback())"
      ],
      "execution_count": null,
      "outputs": [
        {
          "output_type": "display_data",
          "data": {
            "text/html": [
              "<table border=\"1\" class=\"dataframe\">\n",
              "  <thead>\n",
              "    <tr style=\"text-align: left;\">\n",
              "      <th>epoch</th>\n",
              "      <th>train_loss</th>\n",
              "      <th>valid_loss</th>\n",
              "      <th>accuracy</th>\n",
              "      <th>perplexity</th>\n",
              "      <th>time</th>\n",
              "    </tr>\n",
              "  </thead>\n",
              "  <tbody>\n",
              "    <tr>\n",
              "      <td>0</td>\n",
              "      <td>5.762334</td>\n",
              "      <td>5.315001</td>\n",
              "      <td>0.244782</td>\n",
              "      <td>203.364716</td>\n",
              "      <td>04:00</td>\n",
              "    </tr>\n",
              "  </tbody>\n",
              "</table>"
            ],
            "text/plain": [
              "<IPython.core.display.HTML object>"
            ]
          },
          "metadata": {
            "tags": []
          }
        },
        {
          "output_type": "stream",
          "text": [
            "Better model found at epoch 0 with valid_loss value: 5.315001010894775.\n"
          ],
          "name": "stdout"
        },
        {
          "output_type": "display_data",
          "data": {
            "text/html": [
              "<table border=\"1\" class=\"dataframe\">\n",
              "  <thead>\n",
              "    <tr style=\"text-align: left;\">\n",
              "      <th>epoch</th>\n",
              "      <th>train_loss</th>\n",
              "      <th>valid_loss</th>\n",
              "      <th>accuracy</th>\n",
              "      <th>perplexity</th>\n",
              "      <th>time</th>\n",
              "    </tr>\n",
              "  </thead>\n",
              "  <tbody>\n",
              "    <tr>\n",
              "      <td>0</td>\n",
              "      <td>4.878253</td>\n",
              "      <td>4.681581</td>\n",
              "      <td>0.289150</td>\n",
              "      <td>107.940598</td>\n",
              "      <td>04:14</td>\n",
              "    </tr>\n",
              "    <tr>\n",
              "      <td>1</td>\n",
              "      <td>4.744388</td>\n",
              "      <td>4.547056</td>\n",
              "      <td>0.296585</td>\n",
              "      <td>94.354195</td>\n",
              "      <td>04:18</td>\n",
              "    </tr>\n",
              "    <tr>\n",
              "      <td>2</td>\n",
              "      <td>4.560170</td>\n",
              "      <td>4.427361</td>\n",
              "      <td>0.308524</td>\n",
              "      <td>83.710213</td>\n",
              "      <td>04:18</td>\n",
              "    </tr>\n",
              "    <tr>\n",
              "      <td>3</td>\n",
              "      <td>4.367408</td>\n",
              "      <td>4.331484</td>\n",
              "      <td>0.316235</td>\n",
              "      <td>76.057098</td>\n",
              "      <td>04:18</td>\n",
              "    </tr>\n",
              "    <tr>\n",
              "      <td>4</td>\n",
              "      <td>4.178176</td>\n",
              "      <td>4.270179</td>\n",
              "      <td>0.322533</td>\n",
              "      <td>71.534424</td>\n",
              "      <td>04:18</td>\n",
              "    </tr>\n",
              "    <tr>\n",
              "      <td>5</td>\n",
              "      <td>4.059658</td>\n",
              "      <td>4.265752</td>\n",
              "      <td>0.323830</td>\n",
              "      <td>71.218445</td>\n",
              "      <td>04:18</td>\n",
              "    </tr>\n",
              "  </tbody>\n",
              "</table>"
            ],
            "text/plain": [
              "<IPython.core.display.HTML object>"
            ]
          },
          "metadata": {
            "tags": []
          }
        },
        {
          "output_type": "stream",
          "text": [
            "Better model found at epoch 0 with valid_loss value: 4.681581020355225.\n",
            "Better model found at epoch 1 with valid_loss value: 4.547055721282959.\n",
            "Better model found at epoch 2 with valid_loss value: 4.427361011505127.\n",
            "Better model found at epoch 3 with valid_loss value: 4.331484317779541.\n",
            "Better model found at epoch 4 with valid_loss value: 4.27017879486084.\n",
            "Better model found at epoch 5 with valid_loss value: 4.265751838684082.\n"
          ],
          "name": "stdout"
        }
      ]
    },
    {
      "cell_type": "code",
      "metadata": {
        "id": "Y7U9j966d76S"
      },
      "source": [
        "learn.save_encoder('finetuned')"
      ],
      "execution_count": null,
      "outputs": []
    },
    {
      "cell_type": "markdown",
      "metadata": {
        "id": "_JjAiLSGdapZ"
      },
      "source": [
        ""
      ]
    },
    {
      "cell_type": "code",
      "metadata": {
        "id": "4s9SJ4YZdaz6"
      },
      "source": [
        "training_data =  pd.concat([df_train, df_valid], axis=0)[['recipe_trunc', \"label\"]]"
      ],
      "execution_count": null,
      "outputs": []
    },
    {
      "cell_type": "code",
      "metadata": {
        "id": "p09BZyxBeA_k"
      },
      "source": [
        "blocks = (TextBlock.from_df('abstract_clean', seq_len=MAX_SEQ_LEN, vocab=dls.vocab), \n",
        "          CategoryBlock())\n",
        "\n",
        "dls = DataBlock(blocks=blocks,\n",
        "                get_x=ColReader('text'),\n",
        "                get_y=ColReader('topic'),\n",
        "                splitter=RandomSplitter(0.10))\n"
      ],
      "execution_count": null,
      "outputs": []
    },
    {
      "cell_type": "code",
      "metadata": {
        "id": "WVf5JVoweHuR",
        "colab": {
          "base_uri": "https://localhost:8080/",
          "height": 16
        },
        "outputId": "22010db6-c38c-4512-feb2-727f6624d1e1"
      },
      "source": [
        "dls = dls.dataloaders(df_train, \n",
        "                      bs=16, \n",
        "                      before_batch=partial(pad_input_chunk, pad_first=False),\n",
        "                      dl_type=SortedDL)"
      ],
      "execution_count": null,
      "outputs": [
        {
          "output_type": "display_data",
          "data": {
            "text/html": [
              ""
            ],
            "text/plain": [
              "<IPython.core.display.HTML object>"
            ]
          },
          "metadata": {
            "tags": []
          }
        }
      ]
    },
    {
      "cell_type": "code",
      "metadata": {
        "id": "SHgVO35DeLof",
        "colab": {
          "base_uri": "https://localhost:8080/",
          "height": 34
        },
        "outputId": "928689e2-496b-49a4-9a4f-f13ea62f55c9"
      },
      "source": [
        "learn = text_classifier_learner(dls, \n",
        "                                AWD_LSTM, \n",
        "                                pretrained=True,\n",
        "                                drop_mult=0.5,\n",
        "                                opt_func=partial(Adam, wd=2e-4, mom=.8), \n",
        "                                loss_func=LabelSmoothingCrossEntropy(),\n",
        "                                metrics=[accuracy]).to_fp16()\n",
        "                                \n",
        "learn.load_encoder('finetuned')"
      ],
      "execution_count": null,
      "outputs": [
        {
          "output_type": "execute_result",
          "data": {
            "text/plain": [
              "<fastai.text.learner.TextLearner at 0x7fdae345a908>"
            ]
          },
          "metadata": {
            "tags": []
          },
          "execution_count": 35
        }
      ]
    },
    {
      "cell_type": "code",
      "metadata": {
        "id": "BFuP45oieNq1",
        "colab": {
          "base_uri": "https://localhost:8080/",
          "height": 763
        },
        "outputId": "d1cf35c6-4479-47d3-bea2-fe5c8156a22a"
      },
      "source": [
        "learn.model"
      ],
      "execution_count": null,
      "outputs": [
        {
          "output_type": "execute_result",
          "data": {
            "text/plain": [
              "SequentialRNN(\n",
              "  (0): SentenceEncoder(\n",
              "    (module): AWD_LSTM(\n",
              "      (encoder): Embedding(42616, 400, padding_idx=1)\n",
              "      (encoder_dp): EmbeddingDropout(\n",
              "        (emb): Embedding(42616, 400, padding_idx=1)\n",
              "      )\n",
              "      (rnns): ModuleList(\n",
              "        (0): WeightDropout(\n",
              "          (module): LSTM(400, 1152, batch_first=True)\n",
              "        )\n",
              "        (1): WeightDropout(\n",
              "          (module): LSTM(1152, 1152, batch_first=True)\n",
              "        )\n",
              "        (2): WeightDropout(\n",
              "          (module): LSTM(1152, 400, batch_first=True)\n",
              "        )\n",
              "      )\n",
              "      (input_dp): RNNDropout()\n",
              "      (hidden_dps): ModuleList(\n",
              "        (0): RNNDropout()\n",
              "        (1): RNNDropout()\n",
              "        (2): RNNDropout()\n",
              "      )\n",
              "    )\n",
              "  )\n",
              "  (1): PoolingLinearClassifier(\n",
              "    (layers): Sequential(\n",
              "      (0): LinBnDrop(\n",
              "        (0): BatchNorm1d(1200, eps=1e-05, momentum=0.1, affine=True, track_running_stats=True)\n",
              "        (1): Dropout(p=0.2, inplace=False)\n",
              "        (2): Linear(in_features=1200, out_features=50, bias=False)\n",
              "        (3): ReLU(inplace=True)\n",
              "      )\n",
              "      (1): LinBnDrop(\n",
              "        (0): BatchNorm1d(50, eps=1e-05, momentum=0.1, affine=True, track_running_stats=True)\n",
              "        (1): Dropout(p=0.1, inplace=False)\n",
              "        (2): Linear(in_features=50, out_features=20, bias=False)\n",
              "      )\n",
              "    )\n",
              "  )\n",
              ")"
            ]
          },
          "metadata": {
            "tags": []
          },
          "execution_count": 36
        }
      ]
    },
    {
      "cell_type": "markdown",
      "metadata": {
        "id": "AKQryWh1eS_k"
      },
      "source": [
        ""
      ]
    },
    {
      "cell_type": "code",
      "metadata": {
        "id": "ldCKDGG0eTVx",
        "colab": {
          "base_uri": "https://localhost:8080/",
          "height": 301
        },
        "outputId": "25b12871-d5eb-41a7-efd4-93a9e1d0fbf4"
      },
      "source": [
        "learn.freeze_to(-1)\n",
        "learn.lr_find()"
      ],
      "execution_count": null,
      "outputs": [
        {
          "output_type": "display_data",
          "data": {
            "text/html": [
              ""
            ],
            "text/plain": [
              "<IPython.core.display.HTML object>"
            ]
          },
          "metadata": {
            "tags": []
          }
        },
        {
          "output_type": "execute_result",
          "data": {
            "text/plain": [
              "SuggestedLRs(lr_min=0.010000000149011612, lr_steep=0.010964781977236271)"
            ]
          },
          "metadata": {
            "tags": []
          },
          "execution_count": 37
        },
        {
          "output_type": "display_data",
          "data": {
            "image/png": "[encoded data removed]",
            "text/plain": [
              "<Figure size 432x288 with 1 Axes>"
            ]
          },
          "metadata": {
            "tags": [],
            "needs_background": "light"
          }
        }
      ]
    },
    {
      "cell_type": "code",
      "metadata": {
        "id": "2FKlol6neV_x",
        "colab": {
          "base_uri": "https://localhost:8080/",
          "height": 565
        },
        "outputId": "b108fdac-452b-41c5-d0e9-21da65b46e3d"
      },
      "source": [
        "learn.fine_tune(4, 2e-2, cbs=SaveModelCallback())\n",
        "learn.recorder.plot_loss()"
      ],
      "execution_count": null,
      "outputs": [
        {
          "output_type": "display_data",
          "data": {
            "text/html": [
              "<table border=\"1\" class=\"dataframe\">\n",
              "  <thead>\n",
              "    <tr style=\"text-align: left;\">\n",
              "      <th>epoch</th>\n",
              "      <th>train_loss</th>\n",
              "      <th>valid_loss</th>\n",
              "      <th>accuracy</th>\n",
              "      <th>time</th>\n",
              "    </tr>\n",
              "  </thead>\n",
              "  <tbody>\n",
              "    <tr>\n",
              "      <td>0</td>\n",
              "      <td>1.630839</td>\n",
              "      <td>1.350759</td>\n",
              "      <td>0.697508</td>\n",
              "      <td>03:00</td>\n",
              "    </tr>\n",
              "  </tbody>\n",
              "</table>"
            ],
            "text/plain": [
              "<IPython.core.display.HTML object>"
            ]
          },
          "metadata": {
            "tags": []
          }
        },
        {
          "output_type": "stream",
          "text": [
            "Better model found at epoch 0 with valid_loss value: 1.3507593870162964.\n"
          ],
          "name": "stdout"
        },
        {
          "output_type": "display_data",
          "data": {
            "text/html": [
              "<table border=\"1\" class=\"dataframe\">\n",
              "  <thead>\n",
              "    <tr style=\"text-align: left;\">\n",
              "      <th>epoch</th>\n",
              "      <th>train_loss</th>\n",
              "      <th>valid_loss</th>\n",
              "      <th>accuracy</th>\n",
              "      <th>time</th>\n",
              "    </tr>\n",
              "  </thead>\n",
              "  <tbody>\n",
              "    <tr>\n",
              "      <td>0</td>\n",
              "      <td>0.999235</td>\n",
              "      <td>0.914759</td>\n",
              "      <td>0.869684</td>\n",
              "      <td>04:17</td>\n",
              "    </tr>\n",
              "    <tr>\n",
              "      <td>1</td>\n",
              "      <td>0.915873</td>\n",
              "      <td>0.846652</td>\n",
              "      <td>0.896512</td>\n",
              "      <td>04:11</td>\n",
              "    </tr>\n",
              "    <tr>\n",
              "      <td>2</td>\n",
              "      <td>0.788366</td>\n",
              "      <td>0.787986</td>\n",
              "      <td>0.922425</td>\n",
              "      <td>04:12</td>\n",
              "    </tr>\n",
              "    <tr>\n",
              "      <td>3</td>\n",
              "      <td>0.734956</td>\n",
              "      <td>0.770913</td>\n",
              "      <td>0.927492</td>\n",
              "      <td>04:11</td>\n",
              "    </tr>\n",
              "  </tbody>\n",
              "</table>"
            ],
            "text/plain": [
              "<IPython.core.display.HTML object>"
            ]
          },
          "metadata": {
            "tags": []
          }
        },
        {
          "output_type": "stream",
          "text": [
            "Better model found at epoch 0 with valid_loss value: 0.9147589206695557.\n",
            "Better model found at epoch 1 with valid_loss value: 0.8466518521308899.\n",
            "Better model found at epoch 2 with valid_loss value: 0.7879856824874878.\n",
            "Better model found at epoch 3 with valid_loss value: 0.7709128856658936.\n"
          ],
          "name": "stdout"
        },
        {
          "output_type": "display_data",
          "data": {
            "image/png": "[encoded data removed]",
            "text/plain": [
              "<Figure size 432x288 with 1 Axes>"
            ]
          },
          "metadata": {
            "tags": [],
            "needs_background": "light"
          }
        }
      ]
    },
    {
      "cell_type": "code",
      "metadata": {
        "id": "6rB2WqP4eZF6",
        "colab": {
          "base_uri": "https://localhost:8080/",
          "height": 34
        },
        "outputId": "7deb1620-9628-416b-9fe6-cb452ff5b2a8"
      },
      "source": [
        "learn.validate()"
      ],
      "execution_count": null,
      "outputs": [
        {
          "output_type": "display_data",
          "data": {
            "text/html": [
              ""
            ],
            "text/plain": [
              "<IPython.core.display.HTML object>"
            ]
          },
          "metadata": {
            "tags": []
          }
        },
        {
          "output_type": "execute_result",
          "data": {
            "text/plain": [
              "(#2) [0.7709128856658936,0.9274916648864746]"
            ]
          },
          "metadata": {
            "tags": []
          },
          "execution_count": 39
        }
      ]
    },
    {
      "cell_type": "code",
      "metadata": {
        "id": "oDLHuRWSeb_A",
        "colab": {
          "base_uri": "https://localhost:8080/",
          "height": 34
        },
        "outputId": "308b6157-41d3-4d57-80f8-651b03778cbb"
      },
      "source": [
        "learn.save('abs_clf_stage_1')"
      ],
      "execution_count": null,
      "outputs": [
        {
          "output_type": "execute_result",
          "data": {
            "text/plain": [
              "Path('models/abs_clf_stage_1.pth')"
            ]
          },
          "metadata": {
            "tags": []
          },
          "execution_count": 40
        }
      ]
    },
    {
      "cell_type": "markdown",
      "metadata": {
        "id": "7c1-d3whee7S"
      },
      "source": [
        ""
      ]
    },
    {
      "cell_type": "code",
      "metadata": {
        "id": "qfpWXJXzefP9",
        "colab": {
          "base_uri": "https://localhost:8080/",
          "height": 301
        },
        "outputId": "9d7697e3-e695-41d7-c8ca-47067ef2a128"
      },
      "source": [
        "learn = learn.load('abs_clf_stage_1')\n",
        "learn.freeze_to(-3)\n",
        "learn.lr_find()"
      ],
      "execution_count": null,
      "outputs": [
        {
          "output_type": "display_data",
          "data": {
            "text/html": [
              ""
            ],
            "text/plain": [
              "<IPython.core.display.HTML object>"
            ]
          },
          "metadata": {
            "tags": []
          }
        },
        {
          "output_type": "execute_result",
          "data": {
            "text/plain": [
              "SuggestedLRs(lr_min=3.311311274956097e-07, lr_steep=7.585775847473997e-07)"
            ]
          },
          "metadata": {
            "tags": []
          },
          "execution_count": 42
        },
        {
          "output_type": "display_data",
          "data": {
            "image/png": "[encoded data removed]",
            "text/plain": [
              "<Figure size 432x288 with 1 Axes>"
            ]
          },
          "metadata": {
            "tags": [],
            "needs_background": "light"
          }
        }
      ]
    },
    {
      "cell_type": "code",
      "metadata": {
        "id": "tLmLvwW2eiwI",
        "colab": {
          "base_uri": "https://localhost:8080/",
          "height": 222
        },
        "outputId": "2209874a-7443-431e-9333-7f5c0eec076b"
      },
      "source": [
        "learn.fine_tune(2, 7.59e-7, cbs=SaveModelCallback())"
      ],
      "execution_count": null,
      "outputs": [
        {
          "output_type": "display_data",
          "data": {
            "text/html": [
              "<table border=\"1\" class=\"dataframe\">\n",
              "  <thead>\n",
              "    <tr style=\"text-align: left;\">\n",
              "      <th>epoch</th>\n",
              "      <th>train_loss</th>\n",
              "      <th>valid_loss</th>\n",
              "      <th>accuracy</th>\n",
              "      <th>time</th>\n",
              "    </tr>\n",
              "  </thead>\n",
              "  <tbody>\n",
              "    <tr>\n",
              "      <td>0</td>\n",
              "      <td>0.732326</td>\n",
              "      <td>0.772138</td>\n",
              "      <td>0.926993</td>\n",
              "      <td>03:02</td>\n",
              "    </tr>\n",
              "  </tbody>\n",
              "</table>"
            ],
            "text/plain": [
              "<IPython.core.display.HTML object>"
            ]
          },
          "metadata": {
            "tags": []
          }
        },
        {
          "output_type": "stream",
          "text": [
            "Better model found at epoch 0 with valid_loss value: 0.7721381783485413.\n"
          ],
          "name": "stdout"
        },
        {
          "output_type": "display_data",
          "data": {
            "text/html": [
              "<table border=\"1\" class=\"dataframe\">\n",
              "  <thead>\n",
              "    <tr style=\"text-align: left;\">\n",
              "      <th>epoch</th>\n",
              "      <th>train_loss</th>\n",
              "      <th>valid_loss</th>\n",
              "      <th>accuracy</th>\n",
              "      <th>time</th>\n",
              "    </tr>\n",
              "  </thead>\n",
              "  <tbody>\n",
              "    <tr>\n",
              "      <td>0</td>\n",
              "      <td>0.745338</td>\n",
              "      <td>0.770535</td>\n",
              "      <td>0.926827</td>\n",
              "      <td>04:20</td>\n",
              "    </tr>\n",
              "    <tr>\n",
              "      <td>1</td>\n",
              "      <td>0.755489</td>\n",
              "      <td>0.769971</td>\n",
              "      <td>0.926827</td>\n",
              "      <td>04:18</td>\n",
              "    </tr>\n",
              "  </tbody>\n",
              "</table>"
            ],
            "text/plain": [
              "<IPython.core.display.HTML object>"
            ]
          },
          "metadata": {
            "tags": []
          }
        },
        {
          "output_type": "stream",
          "text": [
            "Better model found at epoch 0 with valid_loss value: 0.7705345749855042.\n",
            "Better model found at epoch 1 with valid_loss value: 0.7699709534645081.\n"
          ],
          "name": "stdout"
        }
      ]
    },
    {
      "cell_type": "code",
      "metadata": {
        "id": "XYLOOsFBel-L",
        "colab": {
          "base_uri": "https://localhost:8080/",
          "height": 34
        },
        "outputId": "1f171626-2b07-4d16-d1c6-cb557c225f5b"
      },
      "source": [
        "learn.validate()"
      ],
      "execution_count": null,
      "outputs": [
        {
          "output_type": "display_data",
          "data": {
            "text/html": [
              ""
            ],
            "text/plain": [
              "<IPython.core.display.HTML object>"
            ]
          },
          "metadata": {
            "tags": []
          }
        },
        {
          "output_type": "execute_result",
          "data": {
            "text/plain": [
              "(#2) [0.7699709534645081,0.9268272519111633]"
            ]
          },
          "metadata": {
            "tags": []
          },
          "execution_count": 44
        }
      ]
    },
    {
      "cell_type": "code",
      "metadata": {
        "id": "ZKnHr8MZepCp",
        "colab": {
          "base_uri": "https://localhost:8080/",
          "height": 34
        },
        "outputId": "5d4c842d-1c5e-41bc-f054-6842b83b17a7"
      },
      "source": [
        "learn.save('abs_clf_stage_2')"
      ],
      "execution_count": null,
      "outputs": [
        {
          "output_type": "execute_result",
          "data": {
            "text/plain": [
              "Path('models/abs_clf_stage_2.pth')"
            ]
          },
          "metadata": {
            "tags": []
          },
          "execution_count": 45
        }
      ]
    },
    {
      "cell_type": "markdown",
      "metadata": {
        "id": "UfnwzVr9eqJx"
      },
      "source": [
        ""
      ]
    },
    {
      "cell_type": "code",
      "metadata": {
        "id": "yHyLkLCyesM8",
        "colab": {
          "base_uri": "https://localhost:8080/",
          "height": 301
        },
        "outputId": "ec134891-af7e-4a0d-9736-8cc3d258f447"
      },
      "source": [
        "learn = learn.load('abs_clf_stage_2')\n",
        "learn.unfreeze()\n",
        "learn.lr_find()"
      ],
      "execution_count": null,
      "outputs": [
        {
          "output_type": "display_data",
          "data": {
            "text/html": [
              ""
            ],
            "text/plain": [
              "<IPython.core.display.HTML object>"
            ]
          },
          "metadata": {
            "tags": []
          }
        },
        {
          "output_type": "execute_result",
          "data": {
            "text/plain": [
              "SuggestedLRs(lr_min=9.12010818865383e-08, lr_steep=6.309573450380412e-07)"
            ]
          },
          "metadata": {
            "tags": []
          },
          "execution_count": 47
        },
        {
          "output_type": "display_data",
          "data": {
            "image/png": "[encoded data removed]",
            "text/plain": [
              "<Figure size 432x288 with 1 Axes>"
            ]
          },
          "metadata": {
            "tags": [],
            "needs_background": "light"
          }
        }
      ]
    },
    {
      "cell_type": "code",
      "metadata": {
        "id": "74F5eZVlevYO",
        "colab": {
          "base_uri": "https://localhost:8080/",
          "height": 391
        },
        "outputId": "d35a03ee-4ece-454f-89e4-0a69af9ed67f"
      },
      "source": [
        "learn.fit_one_cycle(2, 2e-7, cbs=SaveModelCallback())\n",
        "learn.recorder.plot_loss()"
      ],
      "execution_count": null,
      "outputs": [
        {
          "output_type": "display_data",
          "data": {
            "text/html": [
              "<table border=\"1\" class=\"dataframe\">\n",
              "  <thead>\n",
              "    <tr style=\"text-align: left;\">\n",
              "      <th>epoch</th>\n",
              "      <th>train_loss</th>\n",
              "      <th>valid_loss</th>\n",
              "      <th>accuracy</th>\n",
              "      <th>time</th>\n",
              "    </tr>\n",
              "  </thead>\n",
              "  <tbody>\n",
              "    <tr>\n",
              "      <td>0</td>\n",
              "      <td>0.725332</td>\n",
              "      <td>0.770825</td>\n",
              "      <td>0.926412</td>\n",
              "      <td>04:11</td>\n",
              "    </tr>\n",
              "    <tr>\n",
              "      <td>1</td>\n",
              "      <td>0.736420</td>\n",
              "      <td>0.770040</td>\n",
              "      <td>0.927243</td>\n",
              "      <td>04:12</td>\n",
              "    </tr>\n",
              "  </tbody>\n",
              "</table>"
            ],
            "text/plain": [
              "<IPython.core.display.HTML object>"
            ]
          },
          "metadata": {
            "tags": []
          }
        },
        {
          "output_type": "stream",
          "text": [
            "Better model found at epoch 0 with valid_loss value: 0.7708245515823364.\n",
            "Better model found at epoch 1 with valid_loss value: 0.7700403928756714.\n"
          ],
          "name": "stdout"
        },
        {
          "output_type": "display_data",
          "data": {
            "image/png": "[encoded data removed]",
            "text/plain": [
              "<Figure size 432x288 with 1 Axes>"
            ]
          },
          "metadata": {
            "tags": [],
            "needs_background": "light"
          }
        }
      ]
    },
    {
      "cell_type": "code",
      "metadata": {
        "id": "PBH8TvfueynI",
        "colab": {
          "base_uri": "https://localhost:8080/",
          "height": 34
        },
        "outputId": "4600bd0d-97b6-46e3-8919-ff184b589c69"
      },
      "source": [
        "learn.validate()"
      ],
      "execution_count": null,
      "outputs": [
        {
          "output_type": "display_data",
          "data": {
            "text/html": [
              ""
            ],
            "text/plain": [
              "<IPython.core.display.HTML object>"
            ]
          },
          "metadata": {
            "tags": []
          }
        },
        {
          "output_type": "execute_result",
          "data": {
            "text/plain": [
              "(#2) [0.7700403928756714,0.9272425174713135]"
            ]
          },
          "metadata": {
            "tags": []
          },
          "execution_count": 49
        }
      ]
    },
    {
      "cell_type": "markdown",
      "metadata": {
        "id": "owmEE3d7e09w"
      },
      "source": [
        ""
      ]
    },
    {
      "cell_type": "code",
      "metadata": {
        "id": "CNb6q8UCBtci",
        "colab": {
          "base_uri": "https://localhost:8080/",
          "height": 34
        },
        "outputId": "359fb711-540b-4435-90be-f3d51af216ae"
      },
      "source": [
        "learn.save('abs_clf_stage_3')"
      ],
      "execution_count": null,
      "outputs": [
        {
          "output_type": "execute_result",
          "data": {
            "text/plain": [
              "Path('models/abs_clf_stage_3.pth')"
            ]
          },
          "metadata": {
            "tags": []
          },
          "execution_count": 50
        }
      ]
    },
    {
      "cell_type": "code",
      "metadata": {
        "id": "iQg5jabLe1Hu"
      },
      "source": [
        "learn.load('abs_clf_stage_3')\n",
        "learn = learn.to_fp32()"
      ],
      "execution_count": null,
      "outputs": []
    },
    {
      "cell_type": "code",
      "metadata": {
        "id": "HOySPbpge5yY"
      },
      "source": [
        "learn.save('final_model')\n",
        "learn.export()\n",
        "torch.save(learn.model.state_dict(), '/content/abstract_classifier')"
      ],
      "execution_count": null,
      "outputs": []
    },
    {
      "cell_type": "markdown",
      "metadata": {
        "id": "ZrDYBNRDe7xa"
      },
      "source": [
        ""
      ]
    },
    {
      "cell_type": "markdown",
      "metadata": {
        "id": "e9s7W-hKe78t"
      },
      "source": [
        ""
      ]
    },
    {
      "cell_type": "code",
      "metadata": {
        "id": "cymcnvMxe8OQ",
        "colab": {
          "base_uri": "https://localhost:8080/",
          "height": 16
        },
        "outputId": "3a84ef6f-63bf-48b9-bce5-f296829a48f4"
      },
      "source": [
        "interp = ClassificationInterpretation.from_learner(learn)"
      ],
      "execution_count": null,
      "outputs": [
        {
          "output_type": "display_data",
          "data": {
            "text/html": [
              ""
            ],
            "text/plain": [
              "<IPython.core.display.HTML object>"
            ]
          },
          "metadata": {
            "tags": []
          }
        }
      ]
    },
    {
      "cell_type": "code",
      "metadata": {
        "id": "FiBq2BC2fBe9",
        "colab": {
          "base_uri": "https://localhost:8080/",
          "height": 311
        },
        "outputId": "c3a14cbe-c67b-4f4f-90a4-1702b9097889"
      },
      "source": [
        "interp.plot_confusion_matrix()"
      ],
      "execution_count": null,
      "outputs": [
        {
          "output_type": "display_data",
          "data": {
            "image/png": "[encoded data removed]",
            "text/plain": [
              "<Figure size 432x288 with 1 Axes>"
            ]
          },
          "metadata": {
            "tags": [],
            "needs_background": "light"
          }
        }
      ]
    },
    {
      "cell_type": "code",
      "metadata": {
        "id": "Z2pjDM1FfEmv",
        "colab": {
          "base_uri": "https://localhost:8080/",
          "height": 1000
        },
        "outputId": "208da31b-7927-4442-f128-6179c79ca0f0"
      },
      "source": [
        "interp.plot_top_losses(k=9)"
      ],
      "execution_count": null,
      "outputs": [
        {
          "output_type": "display_data",
          "data": {
            "text/html": [
              "<table border=\"1\" class=\"dataframe\">\n",
              "  <thead>\n",
              "    <tr style=\"text-align: right;\">\n",
              "      <th></th>\n",
              "      <th>input</th>\n",
              "      <th>target</th>\n",
              "      <th>predicted</th>\n",
              "      <th>probability</th>\n",
              "      <th>loss</th>\n",
              "    </tr>\n",
              "  </thead>\n",
              "  <tbody>\n",
              "    <tr>\n",
              "      <th>0</th>\n",
              "      <td>xxbos present study anti - ibv infectious bronchitis virus activities xxunk studied xxup mtt assay well docking molecular dynamic simulations . xxunk xxunk - pinene xxunk - pinene mm . maximum noncytotoxic concentrations xxunk - pinene xxunk - pinene determined .. respectively . two compounds found inhibit xxup ibv xxup ic .. mm . xxup mtt a</td>\n",
              "      <td>18</td>\n",
              "      <td>15</td>\n",
              "      <td>0.9673007130622864</td>\n",
              "      <td>5.179426670074463</td>\n",
              "    </tr>\n",
              "    <tr>\n",
              "      <th>1</th>\n",
              "      <td>xxbos @ # xxmaj objective analyze status xxunk practice coronavirus xxunk xxunk adults . years old xxmaj xxunk provide scientific basis corresponding health education strategies . xxmaj methods rapid development phrase xxup covid . ， subjects provinces municipalities xxmaj china invited participate quick question xxpad xxpad xxpad xxpad xxpad xxpad xxpad xxpad xxpad xxpad xxpad xxpad xxpad</td>\n",
              "      <td>1</td>\n",
              "      <td>6</td>\n",
              "      <td>0.8638581037521362</td>\n",
              "      <td>4.992884635925293</td>\n",
              "    </tr>\n",
              "    <tr>\n",
              "      <th>2</th>\n",
              "      <td>xxbos purpose study investigate trajectories psychological distress among low - income primarily xxunk xxmaj african xxmaj american women survived xxmaj hurricane xxmaj katrina xxmaj data collected year prior hurricane well approximately . years thereafter . xxmaj using xxmaj latent xxmaj class xxmaj growth xxmaj analysis xxup xxunk detected distinct trajectory groups . xxpad xxpad xxpad xxpad xxpad</td>\n",
              "      <td>18</td>\n",
              "      <td>13</td>\n",
              "      <td>0.8898081183433533</td>\n",
              "      <td>4.980203151702881</td>\n",
              "    </tr>\n",
              "    <tr>\n",
              "      <th>3</th>\n",
              "      <td>xxbos xxmaj objectives understand sars - co - v- infection transmission nursing homes order develop preventive strategies protecting frail elderly residents . xxmaj design outbreak investigation . xxmaj setting nursing homes affected xxup covid- outbreaks central xxmaj london . xxmaj participants residents staff nursing homes . xxmaj interventions xxmaj two p xxpad xxpad xxpad xxpad xxpad xxpad</td>\n",
              "      <td>17</td>\n",
              "      <td>5</td>\n",
              "      <td>0.8740691542625427</td>\n",
              "      <td>4.880521774291992</td>\n",
              "    </tr>\n",
              "    <tr>\n",
              "      <th>4</th>\n",
              "      <td>xxbos recent pandemic situation transpired due coronavirus novel strain sars - cov- become global concern . human coronavirus hcov- put world high alert numbers confirmed cases continuously increasing . world fighting deadly virus leaving stone xxunk find effective treatments testing various available drug xxpad xxpad xxpad xxpad xxpad xxpad xxpad xxpad xxpad xxpad xxpad xxpad xxpad xxpad</td>\n",
              "      <td>5</td>\n",
              "      <td>9</td>\n",
              "      <td>0.8930665254592896</td>\n",
              "      <td>4.832584857940674</td>\n",
              "    </tr>\n",
              "    <tr>\n",
              "      <th>5</th>\n",
              "      <td>xxbos xxup background diagnosis xxup covid‐ relies mainly viral nucleic acid detection false negatives lead missed diagnosis misdiagnosis . sars‐cov‐‐specific antibody detection convenient safe highly sensitive . igm igg commonly used serologically diagnose xxup covid‐ ; however role iga well known . aimed quantify levels s xxpad xxpad xxpad xxpad xxpad xxpad xxpad xxpad xxpad xxpad xxpad</td>\n",
              "      <td>5</td>\n",
              "      <td>12</td>\n",
              "      <td>0.8251377940177917</td>\n",
              "      <td>4.814123153686523</td>\n",
              "    </tr>\n",
              "    <tr>\n",
              "      <th>6</th>\n",
              "      <td>xxbos xxmaj many patients fearful acquiring xxup covid- hospitals clinics . characterized risk xxup covid- amongst patients exposed healthcare workers confirmed xxup covid- ; one patient may infected suggesting risk xxup covid- transmission healthcare workers patients generally low . xxpad xxpad xxpad xxpad xxpad xxpad xxpad xxpad xxpad xxpad xxpad xxpad xxpad xxpad xxpad xxpad xxpad xxpad</td>\n",
              "      <td>8</td>\n",
              "      <td>13</td>\n",
              "      <td>0.8674874305725098</td>\n",
              "      <td>4.701992988586426</td>\n",
              "    </tr>\n",
              "    <tr>\n",
              "      <th>7</th>\n",
              "      <td>xxbos current pandemic xxunk lives human beings every - where ways never imagined forcing question civilization headed . article explore discuss scien - xxunk . evidence helps explain recent events context xxup covid- xxunk caused infection zoonotic - origin novel virus sars - cov- genetically close two corona xxpad xxpad xxpad xxpad xxpad xxpad xxpad xxpad xxpad</td>\n",
              "      <td>8</td>\n",
              "      <td>5</td>\n",
              "      <td>0.9504204988479614</td>\n",
              "      <td>4.687404155731201</td>\n",
              "    </tr>\n",
              "    <tr>\n",
              "      <th>8</th>\n",
              "      <td>xxbos xxup background xxmaj infectious bronchitis virus xxup ibv major pathogen commercial poultry flocks circulates form several serotypesgenotypes . amino - acid changes . subunit wild - type xxup ibvs proteins may result mutants unaffected current vaccines . xxup methods xxmaj partial . gene sequences xxup ibv isolates xxmaj moroccan xxmaj italy genotype vac xxpad xxpad xxpad</td>\n",
              "      <td>10</td>\n",
              "      <td>15</td>\n",
              "      <td>0.9641178250312805</td>\n",
              "      <td>4.668636322021484</td>\n",
              "    </tr>\n",
              "  </tbody>\n",
              "</table>"
            ],
            "text/plain": [
              "<IPython.core.display.HTML object>"
            ]
          },
          "metadata": {
            "tags": []
          }
        }
      ]
    },
    {
      "cell_type": "markdown",
      "metadata": {
        "id": "W1DY5olhfHQC"
      },
      "source": [
        ""
      ]
    },
    {
      "cell_type": "code",
      "metadata": {
        "id": "QlE39c9ufHeX",
        "colab": {
          "base_uri": "https://localhost:8080/",
          "height": 532
        },
        "outputId": "c17c39bf-bda7-4b71-bf74-4d50e443d365"
      },
      "source": [
        "print(\"Training Classification Report:\\n\")\n",
        "interp.print_classification_report()"
      ],
      "execution_count": null,
      "outputs": [
        {
          "output_type": "stream",
          "text": [
            "Training Classification Report:\n",
            "\n",
            "              precision    recall  f1-score   support\n",
            "\n",
            "           0       0.95      0.96      0.95       456\n",
            "           1       0.95      0.88      0.91       571\n",
            "           2       0.92      0.94      0.93       958\n",
            "           3       0.95      0.95      0.95       822\n",
            "           4       0.95      0.99      0.97       167\n",
            "           5       0.96      0.93      0.94       802\n",
            "           6       0.94      0.94      0.94       706\n",
            "           7       0.92      0.93      0.92       570\n",
            "           8       0.91      0.93      0.92       761\n",
            "           9       0.91      0.91      0.91       608\n",
            "          10       0.93      0.93      0.93       601\n",
            "          11       0.95      0.97      0.96       261\n",
            "          12       0.90      0.91      0.91       247\n",
            "          13       0.93      0.94      0.94      1682\n",
            "          14       0.91      0.99      0.95       134\n",
            "          15       0.88      0.92      0.90       222\n",
            "          16       0.91      0.92      0.92       449\n",
            "          17       0.94      0.94      0.94       724\n",
            "          18       0.92      0.85      0.89      1010\n",
            "          19       0.85      0.90      0.87       289\n",
            "\n",
            "    accuracy                           0.93     12040\n",
            "   macro avg       0.92      0.93      0.93     12040\n",
            "weighted avg       0.93      0.93      0.93     12040\n",
            "\n"
          ],
          "name": "stdout"
        }
      ]
    },
    {
      "cell_type": "markdown",
      "metadata": {
        "id": "KD2jn0AHfJny"
      },
      "source": [
        ""
      ]
    },
    {
      "cell_type": "markdown",
      "metadata": {
        "id": "vOZTs2tAfJyn"
      },
      "source": [
        ""
      ]
    },
    {
      "cell_type": "code",
      "metadata": {
        "id": "ja2OZGPwfKG-"
      },
      "source": [
        "inf_learn = load_learner(fname='export.pkl')"
      ],
      "execution_count": null,
      "outputs": []
    },
    {
      "cell_type": "code",
      "metadata": {
        "id": "HPDG-kkufO1b"
      },
      "source": [
        "dl = inf_learn.dls.test_dl(df_test['abstract_clean'])"
      ],
      "execution_count": null,
      "outputs": []
    },
    {
      "cell_type": "code",
      "metadata": {
        "id": "p_d4ArvmfSjM",
        "colab": {
          "base_uri": "https://localhost:8080/",
          "height": 34
        },
        "outputId": "19dc4a0d-9e7b-4e5a-ffac-bbfdb728e4af"
      },
      "source": [
        "start = time.time()\n",
        "preds_fai, _ = inf_learn.get_preds(dl=dl)\n",
        "preds_fai = [int(x) for x in (np.array(torch.argmax(preds_fai, dim=1))) ]\n",
        "end = time.time()\n",
        "print(f\"Inference on {len(df_test)} items took {end-start} seconds.\")"
      ],
      "execution_count": null,
      "outputs": [
        {
          "output_type": "display_data",
          "data": {
            "text/html": [
              ""
            ],
            "text/plain": [
              "<IPython.core.display.HTML object>"
            ]
          },
          "metadata": {
            "tags": []
          }
        },
        {
          "output_type": "stream",
          "text": [
            "Inference on 13388 items took 293.77527809143066 seconds.\n"
          ],
          "name": "stdout"
        }
      ]
    },
    {
      "cell_type": "code",
      "metadata": {
        "id": "xW46X2e0fW1G"
      },
      "source": [
        "df_test[\"preds\"] = preds_fai"
      ],
      "execution_count": null,
      "outputs": []
    },
    {
      "cell_type": "code",
      "metadata": {
        "id": "n2n0xLsOfZNh",
        "colab": {
          "base_uri": "https://localhost:8080/",
          "height": 1000
        },
        "outputId": "509527dc-a9a1-4403-90a0-ffec304661af"
      },
      "source": [
        "df_test.head()"
      ],
      "execution_count": null,
      "outputs": [
        {
          "output_type": "execute_result",
          "data": {
            "text/html": [
              "<div>\n",
              "<style scoped>\n",
              "    .dataframe tbody tr th:only-of-type {\n",
              "        vertical-align: middle;\n",
              "    }\n",
              "\n",
              "    .dataframe tbody tr th {\n",
              "        vertical-align: top;\n",
              "    }\n",
              "\n",
              "    .dataframe thead th {\n",
              "        text-align: right;\n",
              "    }\n",
              "</style>\n",
              "<table border=\"1\" class=\"dataframe\">\n",
              "  <thead>\n",
              "    <tr style=\"text-align: right;\">\n",
              "      <th></th>\n",
              "      <th>cord_uid</th>\n",
              "      <th>source_x</th>\n",
              "      <th>title</th>\n",
              "      <th>license</th>\n",
              "      <th>abstract</th>\n",
              "      <th>publish_year</th>\n",
              "      <th>authors</th>\n",
              "      <th>journal</th>\n",
              "      <th>url</th>\n",
              "      <th>word_count</th>\n",
              "      <th>abstract_clean</th>\n",
              "      <th>topic</th>\n",
              "      <th>topic_resid</th>\n",
              "      <th>preds</th>\n",
              "    </tr>\n",
              "  </thead>\n",
              "  <tbody>\n",
              "    <tr>\n",
              "      <th>0</th>\n",
              "      <td>qm1yutgc</td>\n",
              "      <td>['WHO']</td>\n",
              "      <td>Coronavirus Disease 2019 (COVID-19): Potential implications for weak health systems and conflict zones in the Middle East and North Africa region</td>\n",
              "      <td>unk</td>\n",
              "      <td>This short communication recognizes the underbelly of weak and conflict-prone health systems in the Middle East and North Africa region in the wake of COVID-19 pandemic. The communication highlights how the lack of basic resources, absence of a well-functioning health system and the dearth of well-coordinated communication channels, can bode ill for the successful fight against COVID-19. The article elucidates COVID-19 potential health, social, and economic implications for such countries. The communication cautions that if COVID-19 is left to incubate and makes a home in weak systems, it ...</td>\n",
              "      <td>2020</td>\n",
              "      <td>['Da039', ' ar Omar B', ' Haji Mohamed', ' Jradi Hoda']</td>\n",
              "      <td>Int. j. health plann. manage</td>\n",
              "      <td>NaN</td>\n",
              "      <td>141</td>\n",
              "      <td>short communication recognizes underbelly weak conflict-prone health systems Middle East North Africa region wake COVID- pandemic. communication highlights lack basic resources absence well-functioning health system dearth well-coordinated communication channels bode ill successful fight COVID-. art</td>\n",
              "      <td>6</td>\n",
              "      <td>0.990791</td>\n",
              "      <td>4</td>\n",
              "    </tr>\n",
              "    <tr>\n",
              "      <th>1</th>\n",
              "      <td>xtadsqke</td>\n",
              "      <td>['Medline']</td>\n",
              "      <td>Computed tomography screening for lung cancer: where are we now?</td>\n",
              "      <td>unk</td>\n",
              "      <td>Low-dose computed tomography (LDCT) screening has been shown to result in detection of earlier-stage lung cancers, with a 20% reduction in cancer-related deaths. LDCT screening offers significant potential benefits to selected patients; however, many questions remain, including questions about the applicability of lung cancer screening in clinical practice.</td>\n",
              "      <td>2013</td>\n",
              "      <td>['Christensen Jared D', ' Tong Betty C']</td>\n",
              "      <td>North Carolina medical journal</td>\n",
              "      <td>https://www.ncbi.nlm.nih.gov/pubmed/24165769/</td>\n",
              "      <td>48</td>\n",
              "      <td>Low-dose computed tomography LDCT screening shown result detection earlier-stage lung cancers. reduction cancer-related deaths. LDCT screening offers significant potential benefits selected patients; however many questions remain including questions applicability lung cancer screening clinical pract</td>\n",
              "      <td>13</td>\n",
              "      <td>0.997009</td>\n",
              "      <td>19</td>\n",
              "    </tr>\n",
              "    <tr>\n",
              "      <th>2</th>\n",
              "      <td>ukizemzc</td>\n",
              "      <td>['WHO']</td>\n",
              "      <td>Insights from an interprofessional POST-COVID-19 rehabilitation unit: A speech and language therapy and respiratory medicine perspective</td>\n",
              "      <td>unk</td>\n",
              "      <td>OBJECTIVE: We present a case report that complements the conclusion of Stam et al. in their call to rehabilitation facilities to anticipate and prepare to address post intensive care syndrome (PICS) in post-Covid-19 patients. METHODS: The case report presented here provides insight into treating mechanically ventilated post-Covid-19 patients. RESULTS: Early intervention for dysphagia, using speech and language therapy and ventilator-compatible speaking valves, provided within an interprofessional collaborative team, can mitigate the potential negative consequences of prolonged intubation, ...</td>\n",
              "      <td>2020</td>\n",
              "      <td>['Stierli Sarah', ' Buss Irene', ' Redecker Hermann', ' Baumberger Michael', ' Blättler Erika', ' Selb Melissa', ' Hinter Sandra', ' Ischer Barbara', ' Schwegler Hans']</td>\n",
              "      <td>J. rehabil. med</td>\n",
              "      <td>NaN</td>\n",
              "      <td>118</td>\n",
              "      <td>OBJECTIVE present case report complements conclusion Stam al. call rehabilitation facilities anticipate prepare address post intensive care syndrome PICS post-Covid- patients. METHODS case report presented provides insight treating mechanically ventilated post-Covid- patients. RESULTS Early interven</td>\n",
              "      <td>17</td>\n",
              "      <td>0.992141</td>\n",
              "      <td>17</td>\n",
              "    </tr>\n",
              "    <tr>\n",
              "      <th>3</th>\n",
              "      <td>lvd6kjik</td>\n",
              "      <td>['Elsevier', ' Medline', ' PMC']</td>\n",
              "      <td>Resilience Among Professional Health Workers in Emergency Services</td>\n",
              "      <td>no-cc</td>\n",
              "      <td>INTRODUCTION: Although it seems logical to assume that working in an emergency service implies having a great capacity to face extreme situations, resilience in health care workers has been shown to be related not only to individual personality characteristics but also with external factors. The objective of this study was to determine the resilience of professional health workers in emergency services and its relationships with sociodemographic and working conditions. METHODS: This cross-sectional study included emergency physicians, nurses, and nursing assistants. Sociodemographic variab...</td>\n",
              "      <td>2020</td>\n",
              "      <td>['Sánchez-Zaballos Marta', ' Mosteiro-Díaz Maria Pilar']</td>\n",
              "      <td>J Emerg Nurs</td>\n",
              "      <td>https://www.ncbi.nlm.nih.gov/pubmed/32962846/; https://doi.org/10.1016/j.jen.2020.07.007; https://www.sciencedirect.com/science/article/pii/S0099176720302385; https://api.elsevier.com/content/article/pii/S0099176720302385</td>\n",
              "      <td>268</td>\n",
              "      <td>INTRODUCTION Although seems logical assume working emergency service implies great capacity face extreme situations resilience health care workers shown related individual personality characteristics also external factors. objective study determine resilience professional health workers emergency se</td>\n",
              "      <td>17</td>\n",
              "      <td>0.987908</td>\n",
              "      <td>17</td>\n",
              "    </tr>\n",
              "    <tr>\n",
              "      <th>4</th>\n",
              "      <td>xsybrb2m</td>\n",
              "      <td>['Medline', ' PMC']</td>\n",
              "      <td>Analysis of a QX-like avian infectious bronchitis virus genome identified recombination in the region containing the ORF 5a, ORF 5b, and nucleocapsid protein gene sequences</td>\n",
              "      <td>no-cc</td>\n",
              "      <td>The complete genome of a QX-like infectious bronchitis virus (IBV) strain Sczy3 isolated recently in Sichuan was sequenced. The genome contains 27,695 nucleotides (nt), and possesses a genomic structure similar to other IBV strains. Sequence comparisons demonstrated that the Sczy3 genome had the highest nt sequence identity with QX-like IBVs and was most dissimilar to the Massachusetts type IBV. Differences in the sequences of genes present in the Sczy3 genome and other IBVs gene sequences were also identified. Phylogenic analysis showed that the entire genome and most of the Sczy3 genes w...</td>\n",
              "      <td>2013</td>\n",
              "      <td>['Zhao Fangfang', ' Zou Nianli', ' Wang Fuyan', ' Guo Mingping', ' Liu Ping', ' Wen Xintian', ' Cao Sanjie', ' Huang Yong']</td>\n",
              "      <td>Virus Genes</td>\n",
              "      <td>https://www.ncbi.nlm.nih.gov/pubmed/23355072/; https://doi.org/10.1007/s11262-013-0884-4</td>\n",
              "      <td>166</td>\n",
              "      <td>complete genome QX-like infectious bronchitis virus IBV strain Sczy isolated recently Sichuan sequenced. genome contains. nucleotides possesses genomic structure similar IBV strains. Sequence comparisons demonstrated Sczy genome highest sequence identity QX-like IBVs dissimilar Massachusetts type IB</td>\n",
              "      <td>10</td>\n",
              "      <td>0.993809</td>\n",
              "      <td>10</td>\n",
              "    </tr>\n",
              "  </tbody>\n",
              "</table>\n",
              "</div>"
            ],
            "text/plain": [
              "   cord_uid                          source_x  ... topic_resid preds\n",
              "0  qm1yutgc                           ['WHO']  ...    0.990791     4\n",
              "1  xtadsqke                       ['Medline']  ...    0.997009    19\n",
              "2  ukizemzc                           ['WHO']  ...    0.992141    17\n",
              "3  lvd6kjik  ['Elsevier', ' Medline', ' PMC']  ...    0.987908    17\n",
              "4  xsybrb2m               ['Medline', ' PMC']  ...    0.993809    10\n",
              "\n",
              "[5 rows x 14 columns]"
            ]
          },
          "metadata": {
            "tags": []
          },
          "execution_count": 61
        }
      ]
    },
    {
      "cell_type": "markdown",
      "metadata": {
        "id": "cSykuh-Vfk8a"
      },
      "source": [
        ""
      ]
    },
    {
      "cell_type": "code",
      "metadata": {
        "id": "PEErmT87ffa5"
      },
      "source": [
        "from ulmfit_utils import *"
      ],
      "execution_count": null,
      "outputs": []
    },
    {
      "cell_type": "code",
      "metadata": {
        "id": "s2WJYanvfd7a",
        "colab": {
          "base_uri": "https://localhost:8080/",
          "height": 532
        },
        "outputId": "6143a6a7-618f-4d93-f406-1a4697a5397e"
      },
      "source": [
        "print(\"Classification Report: \")\n",
        "#evaluate_roc(list(preds_fai), df_test.topic.values.tolist())\n",
        "print(classification_report(df_test[\"topic\"], df_test[\"preds\"]))\n",
        "print(accuracy_score(df_test[\"topic\"], df_test[\"preds\"]))"
      ],
      "execution_count": null,
      "outputs": [
        {
          "output_type": "stream",
          "text": [
            "Classification Report: \n",
            "              precision    recall  f1-score   support\n",
            "\n",
            "           0       0.96      0.95      0.96       485\n",
            "           1       0.93      0.89      0.91       617\n",
            "           2       0.93      0.94      0.94      1070\n",
            "           3       0.94      0.96      0.95       866\n",
            "           4       0.93      0.98      0.95       193\n",
            "           5       0.95      0.93      0.94       892\n",
            "           6       0.96      0.94      0.95       761\n",
            "           7       0.94      0.93      0.93       643\n",
            "           8       0.91      0.95      0.93       871\n",
            "           9       0.92      0.92      0.92       669\n",
            "          10       0.93      0.93      0.93       653\n",
            "          11       0.95      0.94      0.95       285\n",
            "          12       0.90      0.91      0.91       280\n",
            "          13       0.94      0.95      0.94      1862\n",
            "          14       0.94      0.99      0.96       149\n",
            "          15       0.91      0.91      0.91       265\n",
            "          16       0.94      0.95      0.94       495\n",
            "          17       0.95      0.97      0.96       852\n",
            "          18       0.92      0.87      0.90      1158\n",
            "          19       0.89      0.93      0.91       322\n",
            "\n",
            "    accuracy                           0.93     13388\n",
            "   macro avg       0.93      0.94      0.93     13388\n",
            "weighted avg       0.93      0.93      0.93     13388\n",
            "\n",
            "0.9344935763370182\n"
          ],
          "name": "stdout"
        }
      ]
    },
    {
      "cell_type": "code",
      "metadata": {
        "id": "0AbQ1pOofqG0"
      },
      "source": [
        "results = ['cord_uid', 'title', 'topic', 'preds']\n",
        "df_test_results = df_test[results]"
      ],
      "execution_count": null,
      "outputs": []
    },
    {
      "cell_type": "markdown",
      "metadata": {
        "id": "QLu9PvgaftDx"
      },
      "source": [
        ""
      ]
    },
    {
      "cell_type": "code",
      "metadata": {
        "id": "9XjiOWRZftol"
      },
      "source": [
        "df_test_results.to_csv('test_final.csv',index=False)"
      ],
      "execution_count": null,
      "outputs": []
    },
    {
      "cell_type": "code",
      "metadata": {
        "id": "GpO1NCCyHZqL"
      },
      "source": [
        ""
      ],
      "execution_count": null,
      "outputs": []
    }
  ]
}