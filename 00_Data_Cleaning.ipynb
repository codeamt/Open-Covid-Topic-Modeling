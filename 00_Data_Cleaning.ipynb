{
  "nbformat": 4,
  "nbformat_minor": 0,
  "metadata": {
    "colab": {
      "name": "00_Data_Cleaning.ipynb",
      "provenance": [],
      "collapsed_sections": [],
      "machine_shape": "hm"
    },
    "kernelspec": {
      "name": "python3",
      "display_name": "Python 3"
    },
    "accelerator": "GPU"
  },
  "cells": [
    {
      "cell_type": "markdown",
      "metadata": {
        "id": "j11GPz-esmCV"
      },
      "source": [
        ""
      ]
    },
    {
      "cell_type": "code",
      "metadata": {
        "id": "I6Sc90z7HMv6"
      },
      "source": [
        "from nb_zero_utils import *"
      ],
      "execution_count": null,
      "outputs": []
    },
    {
      "cell_type": "markdown",
      "metadata": {
        "id": "p2h3nfQJsnpH"
      },
      "source": [
        "### Configure Spark Runtime"
      ]
    },
    {
      "cell_type": "code",
      "metadata": {
        "id": "q8TQxtx16JdR",
        "colab": {
          "base_uri": "https://localhost:8080/",
          "height": 181
        },
        "outputId": "34b6aa16-109e-45c7-d7bc-f26cb1bf6b17"
      },
      "source": [
        "spark = configure_env()"
      ],
      "execution_count": null,
      "outputs": [
        {
          "output_type": "stream",
          "text": [
            "Installing Java 8...\n",
            "Java 8 Installed.\n",
            "Installing pyspark and spark-nlp...\n",
            "pyspark and spark-nlp installed.\n",
            "Downloading Data from Kaggle...\n",
            "Meta data extracted\n",
            "Starting Spark runtime...\n",
            "Spark NLP version:  2.4.2\n",
            "Apache Spark version:  2.4.4\n",
            "Spark is running.\n"
          ],
          "name": "stdout"
        }
      ]
    },
    {
      "cell_type": "markdown",
      "metadata": {
        "id": "haz0UZMrP8X8"
      },
      "source": [
        "### Imports"
      ]
    },
    {
      "cell_type": "code",
      "metadata": {
        "id": "S4hsl-PMTxyv"
      },
      "source": [
        "import pandas as pd\n",
        "import matplotlib.pyplot as plt\n",
        "%matplotlib inline \n",
        "\n",
        "import pyspark.sql.functions as F\n",
        "from pyspark.sql.functions import col, udf\n",
        "from pyspark.sql.types import *\n",
        "\n",
        "from guess_language import guess_language"
      ],
      "execution_count": null,
      "outputs": []
    },
    {
      "cell_type": "markdown",
      "metadata": {
        "id": "zavDN5wSQMI6"
      },
      "source": [
        "### Import Data"
      ]
    },
    {
      "cell_type": "code",
      "metadata": {
        "id": "7l4IEjO56NYV"
      },
      "source": [
        "meta = spark.read\\\n",
        "                .option(\"header\", \"true\")\\\n",
        "                .csv(\"/content/metadata.csv\")"
      ],
      "execution_count": null,
      "outputs": []
    },
    {
      "cell_type": "code",
      "metadata": {
        "id": "E7u05BVpIiVO",
        "colab": {
          "base_uri": "https://localhost:8080/",
          "height": 363
        },
        "outputId": "adfb32af-e27e-4809-9541-cb26c62e2509"
      },
      "source": [
        "meta.printSchema()"
      ],
      "execution_count": null,
      "outputs": [
        {
          "output_type": "stream",
          "text": [
            "root\n",
            " |-- cord_uid: string (nullable = true)\n",
            " |-- sha: string (nullable = true)\n",
            " |-- source_x: string (nullable = true)\n",
            " |-- title: string (nullable = true)\n",
            " |-- doi: string (nullable = true)\n",
            " |-- pmcid: string (nullable = true)\n",
            " |-- pubmed_id: string (nullable = true)\n",
            " |-- license: string (nullable = true)\n",
            " |-- abstract: string (nullable = true)\n",
            " |-- publish_time: string (nullable = true)\n",
            " |-- authors: string (nullable = true)\n",
            " |-- journal: string (nullable = true)\n",
            " |-- mag_id: string (nullable = true)\n",
            " |-- who_covidence_id: string (nullable = true)\n",
            " |-- arxiv_id: string (nullable = true)\n",
            " |-- pdf_json_files: string (nullable = true)\n",
            " |-- pmc_json_files: string (nullable = true)\n",
            " |-- url: string (nullable = true)\n",
            " |-- s2_id: string (nullable = true)\n",
            "\n"
          ],
          "name": "stdout"
        }
      ]
    },
    {
      "cell_type": "markdown",
      "metadata": {
        "id": "VvzGtMIdQRjl"
      },
      "source": [
        ""
      ]
    },
    {
      "cell_type": "code",
      "metadata": {
        "id": "F7HE6pg96PBw"
      },
      "source": [
        "extra_fields = [\n",
        "                'sha',\n",
        "                'doi', \n",
        "                'pmcid', \n",
        "                'pubmed_id', \n",
        "                \"mag_id\", \n",
        "                \"who_covidence_id\", \n",
        "                \"arxiv_id\", \n",
        "                \"pdf_json_files\", \n",
        "                \"pmc_json_files\", \n",
        "                \"s2_id\"]\n",
        "\n",
        "meta = meta.drop(*extra_fields)"
      ],
      "execution_count": null,
      "outputs": []
    },
    {
      "cell_type": "code",
      "metadata": {
        "id": "moU7_Kq2Iqac",
        "colab": {
          "base_uri": "https://localhost:8080/",
          "height": 198
        },
        "outputId": "de1e09b0-d814-48fb-b3d4-445b783114ac"
      },
      "source": [
        "meta.printSchema()"
      ],
      "execution_count": null,
      "outputs": [
        {
          "output_type": "stream",
          "text": [
            "root\n",
            " |-- cord_uid: string (nullable = true)\n",
            " |-- source_x: string (nullable = true)\n",
            " |-- title: string (nullable = true)\n",
            " |-- license: string (nullable = true)\n",
            " |-- abstract: string (nullable = true)\n",
            " |-- publish_time: string (nullable = true)\n",
            " |-- authors: string (nullable = true)\n",
            " |-- journal: string (nullable = true)\n",
            " |-- url: string (nullable = true)\n",
            "\n"
          ],
          "name": "stdout"
        }
      ]
    },
    {
      "cell_type": "markdown",
      "metadata": {
        "id": "u7uFxfT7Iufq"
      },
      "source": [
        ""
      ]
    },
    {
      "cell_type": "code",
      "metadata": {
        "id": "DRaL2lAo6Y4w",
        "colab": {
          "base_uri": "https://localhost:8080/",
          "height": 218
        },
        "outputId": "d0375f2e-7095-4764-f313-6f3daeabb15a"
      },
      "source": [
        "meta.show(5)"
      ],
      "execution_count": null,
      "outputs": [
        {
          "output_type": "stream",
          "text": [
            "+--------+--------+--------------------+-------+--------------------+------------+--------------------+--------------+--------------------+\n",
            "|cord_uid|source_x|               title|license|            abstract|publish_time|             authors|       journal|                 url|\n",
            "+--------+--------+--------------------+-------+--------------------+------------+--------------------+--------------+--------------------+\n",
            "|ug7v899j|     PMC|Clinical features...|  no-cc|OBJECTIVE: This r...|  2001-07-04|Madani, Tariq A; ...|BMC Infect Dis|https://www.ncbi....|\n",
            "|02tnwd4m|     PMC|Nitric oxide: a p...|  no-cc|Inflammatory dise...|  2000-08-15|Vliet, Albert van...|    Respir Res|https://www.ncbi....|\n",
            "|ejv2xln0|     PMC|Surfactant protei...|  no-cc|Surfactant protei...|  2000-08-25|     Crouch, Erika C|    Respir Res|https://www.ncbi....|\n",
            "|2b73a28n|     PMC|Role of endotheli...|  no-cc|Endothelin-1 (ET-...|  2001-02-22|Fagan, Karen A; M...|    Respir Res|https://www.ncbi....|\n",
            "|9785vg6d|     PMC|Gene expression i...|  no-cc|Respiratory syncy...|  2001-05-11|Domachowske, Jose...|    Respir Res|https://www.ncbi....|\n",
            "+--------+--------+--------------------+-------+--------------------+------------+--------------------+--------------+--------------------+\n",
            "only showing top 5 rows\n",
            "\n"
          ],
          "name": "stdout"
        }
      ]
    },
    {
      "cell_type": "markdown",
      "metadata": {
        "id": "z4_dUW097BAw"
      },
      "source": [
        ""
      ]
    },
    {
      "cell_type": "markdown",
      "metadata": {
        "id": "BhXcrA9X6fms"
      },
      "source": [
        "### Date"
      ]
    },
    {
      "cell_type": "code",
      "metadata": {
        "id": "4i1ytjCk6j7U",
        "colab": {
          "base_uri": "https://localhost:8080/",
          "height": 218
        },
        "outputId": "daa6fd12-50cd-4fc2-c341-d543f38bac9e"
      },
      "source": [
        "meta.filter(F.length(\"publish_time\") != 10).sample(True, .2, 20).show(5)"
      ],
      "execution_count": null,
      "outputs": [
        {
          "output_type": "stream",
          "text": [
            "+--------+--------+--------------------+-------+--------------------+--------------------+--------------------+--------------------+--------------------+\n",
            "|cord_uid|source_x|               title|license|            abstract|        publish_time|             authors|             journal|                 url|\n",
            "+--------+--------+--------------------+-------+--------------------+--------------------+--------------------+--------------------+--------------------+\n",
            "|s64v656n|     PMC|Injection drug us...|  cc-by|\"Illicit drug abu...| China has also b...| and many share n...| which conflict w...|                null|\n",
            "|fj9l8che|     PMC|The evolution of ...|  cc-by|\"BACKGROUND: Know...| especially with ...| polymerase acidi...| matrix protein 1...|             Virol J|\n",
            "|0ybn2igj|     PMC|\"Initial psycholo...|  cc-by|\"BACKGROUND: The ...| and regional dif...| purchase of prep...| perceived risk g...| p < .001). 36% r...|\n",
            "|uvv06b4n|     PMC|Noninvasive venti...|  cc-by|                null|                2011|Singh, Akashdeep;...|          Lung India|https://www.ncbi....|\n",
            "|uvv06b4n|     PMC|Noninvasive venti...|  cc-by|                null|                2011|Singh, Akashdeep;...|          Lung India|https://www.ncbi....|\n",
            "+--------+--------+--------------------+-------+--------------------+--------------------+--------------------+--------------------+--------------------+\n",
            "only showing top 5 rows\n",
            "\n"
          ],
          "name": "stdout"
        }
      ]
    },
    {
      "cell_type": "code",
      "metadata": {
        "id": "cG0fiQmxJSOb"
      },
      "source": [
        "dated_by_year = meta.filter(F.length(meta.publish_time) == 4).withColumnRenamed(\"publish_time\", \"publish_year\")\n",
        "dated_by_year = dated_by_year.withColumn(\"publish_year\", F.year(dated_by_year[\"publish_year\"].cast(DateType())))"
      ],
      "execution_count": null,
      "outputs": []
    },
    {
      "cell_type": "code",
      "metadata": {
        "id": "dify5KnW6oEa"
      },
      "source": [
        "meta = meta.filter(F.length(\"publish_time\") == 10)\n",
        "meta = meta.withColumn('publish_time', F.year(meta[\"publish_time\"].cast(DateType())))\n",
        "meta = meta.filter((F.length(meta.publish_time) == 4))"
      ],
      "execution_count": null,
      "outputs": []
    },
    {
      "cell_type": "code",
      "metadata": {
        "id": "eMR9IEcqJaIE",
        "colab": {
          "base_uri": "https://localhost:8080/",
          "height": 214
        },
        "outputId": "91b14267-bcb4-498c-e555-391ecb67b9ff"
      },
      "source": [
        "meta.cache()\n",
        "print(f\"Number of records: {meta.count()}\")\n",
        "meta = meta.withColumnRenamed(\"publish_time\", \"publish_year\")\n",
        "meta.select(\"title\", \"publish_year\").show(5)"
      ],
      "execution_count": null,
      "outputs": [
        {
          "output_type": "stream",
          "text": [
            "Number of records: 111330\n",
            "+--------------------+------------+\n",
            "|               title|publish_year|\n",
            "+--------------------+------------+\n",
            "|Clinical features...|        2001|\n",
            "|Nitric oxide: a p...|        2000|\n",
            "|Surfactant protei...|        2000|\n",
            "|Role of endotheli...|        2001|\n",
            "|Gene expression i...|        2001|\n",
            "+--------------------+------------+\n",
            "only showing top 5 rows\n",
            "\n"
          ],
          "name": "stdout"
        }
      ]
    },
    {
      "cell_type": "code",
      "metadata": {
        "id": "dub3OfKm6rf-"
      },
      "source": [
        "meta = meta.union(dated_by_year)\n",
        "meta = meta.filter(meta.publish_year.isNotNull()) "
      ],
      "execution_count": null,
      "outputs": []
    },
    {
      "cell_type": "code",
      "metadata": {
        "id": "NhhGmSQHJ3fJ",
        "colab": {
          "base_uri": "https://localhost:8080/",
          "height": 482
        },
        "outputId": "e64742e0-b1fc-43e7-e241-cfd6204975de"
      },
      "source": [
        "meta.cache()\n",
        "print(f\"Number of records: {meta.count()}\")\n",
        "meta.show()"
      ],
      "execution_count": null,
      "outputs": [
        {
          "output_type": "stream",
          "text": [
            "Number of records: 200364\n",
            "+--------+--------+--------------------+---------+--------------------+------------+--------------------+--------------------+--------------------+\n",
            "|cord_uid|source_x|               title|  license|            abstract|publish_year|             authors|             journal|                 url|\n",
            "+--------+--------+--------------------+---------+--------------------+------------+--------------------+--------------------+--------------------+\n",
            "|ug7v899j|     PMC|Clinical features...|    no-cc|OBJECTIVE: This r...|        2001|Madani, Tariq A; ...|      BMC Infect Dis|https://www.ncbi....|\n",
            "|02tnwd4m|     PMC|Nitric oxide: a p...|    no-cc|Inflammatory dise...|        2000|Vliet, Albert van...|          Respir Res|https://www.ncbi....|\n",
            "|ejv2xln0|     PMC|Surfactant protei...|    no-cc|Surfactant protei...|        2000|     Crouch, Erika C|          Respir Res|https://www.ncbi....|\n",
            "|2b73a28n|     PMC|Role of endotheli...|    no-cc|Endothelin-1 (ET-...|        2001|Fagan, Karen A; M...|          Respir Res|https://www.ncbi....|\n",
            "|9785vg6d|     PMC|Gene expression i...|    no-cc|Respiratory syncy...|        2001|Domachowske, Jose...|          Respir Res|https://www.ncbi....|\n",
            "|zjufx4fo|     PMC|Sequence requirem...| green-oa|Nidovirus subgeno...|        2001|Pasternak, Alexan...|    The EMBO Journal|http://europepmc....|\n",
            "|5yhe786e|     PMC|Debate: Transfusi...|    no-cc|Recent evidence s...|        2001|Alvarez, Gonzalo;...|           Crit Care|https://www.ncbi....|\n",
            "|8zchiykl|     PMC|The 21st Internat...|    no-cc|The 21st Internat...|        2001|Ball, Jonathan; V...|           Crit Care|https://www.ncbi....|\n",
            "|8qnrcgnk|     PMC|Heme oxygenase-1 ...|    no-cc|Heme oxygenase-1 ...|        2003|Slebos, Dirk-Jan;...|          Respir Res|https://www.ncbi....|\n",
            "|jg13scgo|     PMC|Technical Descrip...|bronze-oa|This report descr...|        2003|Tsui, Fu-Chiang; ...|Journal of the Am...|https://academic....|\n",
            "|5tkvsudh|     PMC|Conservation of p...|    no-cc|Regulation of orn...|        2000|Ivanov, Ivaylo P....|              EMBO J|https://www.ncbi....|\n",
            "|6lvn10f4|     PMC|Heterogeneous nuc...| green-oa|Heterogeneous nuc...|        2000|Shi, Stephanie T....|    The EMBO Journal|http://europepmc....|\n",
            "|tvxpckxo|     PMC|A Method to Ident...|    no-cc|The UBA domain is...|        2003|Pridgeon, Julia W...|  Biol Proced Online|https://www.ncbi....|\n",
            "|mcuixluu|     PMC|Vaccinia virus in...| green-oa|We examined the r...|        2000|Ploubidou, Aspasi...|    The EMBO Journal|http://europepmc....|\n",
            "|6iu1dtyl|     PMC|The site of origi...|    no-cc|                null|        2004|       Barry, John M|        J Transl Med|https://www.ncbi....|\n",
            "|t35n7bk9|     PMC|Multi-faceted, mu...|    no-cc|There are hundred...|        2004|Shieh, Biehuoy; L...|       Retrovirology|https://www.ncbi....|\n",
            "|eiqypt0m|     PMC|Herpes simplex vi...|    no-cc|INTRODUCTION: The...|        2004|Verheij, Joanne; ...|           Crit Care|https://www.ncbi....|\n",
            "|sgmk96vr|     PMC|Logistics of comm...|    cc-by|BACKGROUND: Previ...|        2004|Porco, Travis C; ...|   BMC Public Health|https://www.ncbi....|\n",
            "|di0fcy0j|     PMC|Protection of pul...|    cc-by|BACKGROUND: Oxyge...|        2004|Kremer, Ted M; Ri...|          Respir Res|https://www.ncbi....|\n",
            "|4k8f7ou1|     PMC|Bioinformatic map...|    cc-by|BACKGROUND: AlkB-...|        2005|Bratlie, Marit S;...|        BMC Genomics|https://www.ncbi....|\n",
            "+--------+--------+--------------------+---------+--------------------+------------+--------------------+--------------------+--------------------+\n",
            "only showing top 20 rows\n",
            "\n"
          ],
          "name": "stdout"
        }
      ]
    },
    {
      "cell_type": "code",
      "metadata": {
        "id": "rnhUXDCFJMx3",
        "colab": {
          "base_uri": "https://localhost:8080/",
          "height": 511
        },
        "outputId": "c34c6180-06cc-457c-da96-bd613a911e3b"
      },
      "source": [
        "meta = meta.filter(meta.publish_year.isNotNull())\n",
        "meta.cache()\n",
        "print(\"Record Count: \", meta.count())\n",
        "meta.groupBy(\"publish_year\").count().select(\"publish_year\", \"count\").toPandas() \\\n",
        ".set_index(\"publish_year\").sort_index( ascending=True,).plot.bar(figsize=(15,8))"
      ],
      "execution_count": null,
      "outputs": [
        {
          "output_type": "stream",
          "text": [
            "Record Count:  200364\n"
          ],
          "name": "stdout"
        },
        {
          "output_type": "execute_result",
          "data": {
            "text/plain": [
              "<matplotlib.axes._subplots.AxesSubplot at 0x7f8187756ac8>"
            ]
          },
          "metadata": {
            "tags": []
          },
          "execution_count": 15
        },
        {
          "output_type": "display_data",
          "data": {
            "image/png": "[encoded data removed]",
            "text/plain": [
              "<Figure size 1080x576 with 1 Axes>"
            ]
          },
          "metadata": {
            "tags": [],
            "needs_background": "light"
          }
        }
      ]
    },
    {
      "cell_type": "code",
      "metadata": {
        "id": "ogSjjvcBNAby",
        "colab": {
          "base_uri": "https://localhost:8080/",
          "height": 495
        },
        "outputId": "f07ce220-a092-421f-a69c-8bfc375e9574"
      },
      "source": [
        "test = meta.filter(meta.publish_year > 1985)\n",
        "test.groupBy(\"publish_year\").count().select(\"publish_year\", \"count\").toPandas() \\\n",
        ".set_index(\"publish_year\").sort_index( ascending=True,).plot.bar(figsize=(15,8))"
      ],
      "execution_count": null,
      "outputs": [
        {
          "output_type": "execute_result",
          "data": {
            "text/plain": [
              "<matplotlib.axes._subplots.AxesSubplot at 0x7f8186fb4128>"
            ]
          },
          "metadata": {
            "tags": []
          },
          "execution_count": 16
        },
        {
          "output_type": "display_data",
          "data": {
            "image/png": "[encoded data removed]",
            "text/plain": [
              "<Figure size 1080x576 with 1 Axes>"
            ]
          },
          "metadata": {
            "tags": [],
            "needs_background": "light"
          }
        }
      ]
    },
    {
      "cell_type": "markdown",
      "metadata": {
        "id": "l1HW7ML563dR"
      },
      "source": [
        "### Unique Constraint "
      ]
    },
    {
      "cell_type": "code",
      "metadata": {
        "id": "NNHcH9aB7EFx",
        "colab": {
          "base_uri": "https://localhost:8080/",
          "height": 214
        },
        "outputId": "3d77e6e4-ef10-4399-853d-345c021516e8"
      },
      "source": [
        "meta = de_duplicate_df(meta, ['abstract', 'title', 'cord_uid'])"
      ],
      "execution_count": null,
      "outputs": [
        {
          "output_type": "stream",
          "text": [
            "There are 71407 duplicate values in column abstract\n",
            "Cleaning...\n",
            "Done.\n",
            "There are now 0 duplicate values in column abstract\n",
            "There are 5228 duplicate values in column title\n",
            "Cleaning...\n",
            "Done.\n",
            "There are now 0 duplicate values in column title\n",
            "There are 256 duplicate values in column cord_uid\n",
            "Cleaning...\n",
            "Done.\n",
            "There are now 0 duplicate values in column cord_uid\n"
          ],
          "name": "stdout"
        }
      ]
    },
    {
      "cell_type": "code",
      "metadata": {
        "id": "HiuI1vLf7ITx",
        "colab": {
          "base_uri": "https://localhost:8080/",
          "height": 33
        },
        "outputId": "86064df0-10ef-412f-de6b-50d557cc541a"
      },
      "source": [
        "meta.cache()\n",
        "print(\"Record Count: \", meta.count())"
      ],
      "execution_count": null,
      "outputs": [
        {
          "output_type": "stream",
          "text": [
            "Record Count:  123473\n"
          ],
          "name": "stdout"
        }
      ]
    },
    {
      "cell_type": "markdown",
      "metadata": {
        "id": "ounE_coK7muU"
      },
      "source": [
        ""
      ]
    },
    {
      "cell_type": "code",
      "metadata": {
        "id": "bBsNnPtg7bZY"
      },
      "source": [
        "udfGetWordCount = udf(get_word_count, IntegerType())\n",
        "meta = meta.withColumn('word_count', udfGetWordCount('abstract'))"
      ],
      "execution_count": null,
      "outputs": []
    },
    {
      "cell_type": "code",
      "metadata": {
        "id": "EvxlaTXM7tUw",
        "colab": {
          "base_uri": "https://localhost:8080/",
          "height": 198
        },
        "outputId": "c84ff26e-8d0a-46eb-a685-5329a738945c"
      },
      "source": [
        "meta.select('abstract', 'word_count').show(5)"
      ],
      "execution_count": null,
      "outputs": [
        {
          "output_type": "stream",
          "text": [
            "+--------------------+----------+\n",
            "|            abstract|word_count|\n",
            "+--------------------+----------+\n",
            "|Abstract The N-te...|       207|\n",
            "|Human immunodefic...|       201|\n",
            "|The effect of hyd...|       236|\n",
            "|Background To dat...|       259|\n",
            "|SARS2-CoV-2 break...|       247|\n",
            "+--------------------+----------+\n",
            "only showing top 5 rows\n",
            "\n"
          ],
          "name": "stdout"
        }
      ]
    },
    {
      "cell_type": "code",
      "metadata": {
        "id": "1N9hsAIV7207",
        "colab": {
          "base_uri": "https://localhost:8080/",
          "height": 163
        },
        "outputId": "ca36e454-6e3a-49d6-c942-7fb826c0aaf7"
      },
      "source": [
        "meta.toPandas()['word_count'].describe()"
      ],
      "execution_count": null,
      "outputs": [
        {
          "output_type": "execute_result",
          "data": {
            "text/plain": [
              "count    120681.000000\n",
              "mean        197.186334\n",
              "std         118.211208\n",
              "min           1.000000\n",
              "25%         138.000000\n",
              "50%         197.000000\n",
              "75%         250.000000\n",
              "max       18000.000000\n",
              "Name: word_count, dtype: float64"
            ]
          },
          "metadata": {
            "tags": []
          },
          "execution_count": 21
        }
      ]
    },
    {
      "cell_type": "markdown",
      "metadata": {
        "id": "bQ4qm5IW8EOm"
      },
      "source": [
        ""
      ]
    },
    {
      "cell_type": "code",
      "metadata": {
        "id": "_EOe3GUuNjoJ"
      },
      "source": [
        "#abstracts w/ counts within 25th percentile and 1 std of the mean\n",
        "meta.filter(meta.word_count < 19).sample(True, .2, 10).show()"
      ],
      "execution_count": null,
      "outputs": []
    },
    {
      "cell_type": "code",
      "metadata": {
        "id": "fp2rG0ehP4YG"
      },
      "source": [
        "meta = meta.filter((meta.abstract.isNotNull()) &\n",
        "                   (meta.authors.isNotNull()) &\n",
        "                   (meta.title.isNotNull()) &\n",
        "                   (meta.url.isNotNull()))"
      ],
      "execution_count": null,
      "outputs": []
    },
    {
      "cell_type": "markdown",
      "metadata": {
        "id": "X-47jtlbP6fm"
      },
      "source": [
        "### Collecting English Abstracts "
      ]
    },
    {
      "cell_type": "code",
      "metadata": {
        "id": "ZtxsRUlcNtUj"
      },
      "source": [
        "udfGetLang = udf(get_language, StringType())\n",
        "meta = meta.withColumn(\"language\", udfGetLang(\"abstract\").cast(StringType()))"
      ],
      "execution_count": null,
      "outputs": []
    },
    {
      "cell_type": "markdown",
      "metadata": {
        "id": "oQktYitnPKHp"
      },
      "source": [
        ""
      ]
    },
    {
      "cell_type": "code",
      "metadata": {
        "id": "NsJQC8JZIW8N",
        "colab": {
          "base_uri": "https://localhost:8080/",
          "height": 522
        },
        "outputId": "cb616d72-07f8-4394-ca6a-596f4c623080"
      },
      "source": [
        "test = meta\n",
        "test.groupBy(\"language\").count().select(\"language\", \"count\").toPandas() \\\n",
        ".set_index(\"language\").sort_index(ascending=True,).plot.bar(figsize=(15,8))"
      ],
      "execution_count": null,
      "outputs": [
        {
          "output_type": "execute_result",
          "data": {
            "text/plain": [
              "<matplotlib.axes._subplots.AxesSubplot at 0x7f818c426860>"
            ]
          },
          "metadata": {
            "tags": []
          },
          "execution_count": 24
        },
        {
          "output_type": "display_data",
          "data": {
            "image/png": "[encoded data removed]",
            "text/plain": [
              "<Figure size 1080x576 with 1 Axes>"
            ]
          },
          "metadata": {
            "tags": [],
            "needs_background": "light"
          }
        }
      ]
    },
    {
      "cell_type": "markdown",
      "metadata": {
        "id": "_sGer7KmIXrh"
      },
      "source": [
        ""
      ]
    },
    {
      "cell_type": "code",
      "metadata": {
        "id": "GtxnWIh8N_EY",
        "colab": {
          "base_uri": "https://localhost:8080/",
          "height": 33
        },
        "outputId": "b8a95485-a3e3-457e-df74-5825373e82da"
      },
      "source": [
        "meta = meta.filter(meta.language == \"en\").drop(\"language\")\n",
        "print(\"Record Count: \", meta.count())"
      ],
      "execution_count": null,
      "outputs": [
        {
          "output_type": "stream",
          "text": [
            "Record Count:  113072\n"
          ],
          "name": "stdout"
        }
      ]
    },
    {
      "cell_type": "code",
      "metadata": {
        "id": "UOcCyNwlOC-p",
        "colab": {
          "base_uri": "https://localhost:8080/",
          "height": 300
        },
        "outputId": "9fded259-2fdf-4194-b424-82e5201a3922"
      },
      "source": [
        "#abstracts w/ counts within 25th percentile and 1 std of the mean\n",
        "meta.filter(meta.word_count < 19).select(\"abstract\").show(10, truncate=False)"
      ],
      "execution_count": null,
      "outputs": [
        {
          "output_type": "stream",
          "text": [
            "+-------------------------------------------------------------------------------------------------------------------+\n",
            "|abstract                                                                                                           |\n",
            "+-------------------------------------------------------------------------------------------------------------------+\n",
            "|The majority of healthcare in Canada is universally provided and publicly funded through the provincial government.|\n",
            "|What will be the role of theragnostic patents in upstream and downstream biomarker research?                       |\n",
            "|The volume of the isolation ward is not large, so the air distribution is relative simple.                         |\n",
            "|Sequence shows that animal spawned SARS virus.                                                                     |\n",
            "|The original version of this article unfortunately contained a mistake.                                            |\n",
            "|Supplemental Digital Content is available in the text.                                                             |\n",
            "|[This corrects the article on p. 35 in vol. 4, PMID: 23487416.].                                                   |\n",
            "|organic—infections, tumors, multiple sclerosis, vestibular nerve or brain stem lesions                             |\n",
            "|Masks and testing are necessary to combat asymptomatic spread in aerosols and droplets.                            |\n",
            "|This month's selection provides guidance to evaluate and test patients for COVID‐19.                               |\n",
            "+-------------------------------------------------------------------------------------------------------------------+\n",
            "only showing top 10 rows\n",
            "\n"
          ],
          "name": "stdout"
        }
      ]
    },
    {
      "cell_type": "markdown",
      "metadata": {
        "id": "KmVRqXXyRiuk"
      },
      "source": [
        "### Removing Non-Asiic Characters "
      ]
    },
    {
      "cell_type": "code",
      "metadata": {
        "id": "lXQ6CmrrOWuO",
        "colab": {
          "base_uri": "https://localhost:8080/",
          "height": 165
        },
        "outputId": "d3f6f2f5-1f8d-4765-b7f9-693076d1b4a5"
      },
      "source": [
        "meta.cache()\n",
        "meta.toPandas()['word_count'].describe()"
      ],
      "execution_count": null,
      "outputs": [
        {
          "output_type": "execute_result",
          "data": {
            "text/plain": [
              "count    113072.000000\n",
              "mean        197.480110\n",
              "std         117.431875\n",
              "min           3.000000\n",
              "25%         140.000000\n",
              "50%         197.000000\n",
              "75%         250.000000\n",
              "max       18000.000000\n",
              "Name: word_count, dtype: float64"
            ]
          },
          "metadata": {
            "tags": []
          },
          "execution_count": 27
        }
      ]
    },
    {
      "cell_type": "code",
      "metadata": {
        "id": "VF8OMmLi8KUN"
      },
      "source": [
        "udfcheckNonAsiic = udf(is_asiic, BooleanType())\n",
        "meta = meta.filter((udfcheckNonAsiic(meta[\"abstract\"]) == True) &\n",
        "                   (meta.word_count > 20))"
      ],
      "execution_count": null,
      "outputs": []
    },
    {
      "cell_type": "code",
      "metadata": {
        "id": "EkE0cSMBOhSV",
        "colab": {
          "base_uri": "https://localhost:8080/",
          "height": 165
        },
        "outputId": "1ad4cb20-9dfd-432b-bbe3-b8098a0820ea"
      },
      "source": [
        "meta.toPandas()['word_count'].describe()"
      ],
      "execution_count": null,
      "outputs": [
        {
          "output_type": "execute_result",
          "data": {
            "text/plain": [
              "count    112187.000000\n",
              "mean        198.675631\n",
              "std         116.975241\n",
              "min          21.000000\n",
              "25%         141.000000\n",
              "50%         198.000000\n",
              "75%         250.000000\n",
              "max       18000.000000\n",
              "Name: word_count, dtype: float64"
            ]
          },
          "metadata": {
            "tags": []
          },
          "execution_count": 29
        }
      ]
    },
    {
      "cell_type": "markdown",
      "metadata": {
        "id": "vnJLw6ll8jR9"
      },
      "source": [
        ""
      ]
    },
    {
      "cell_type": "code",
      "metadata": {
        "id": "JYdlSE7fA_Mv",
        "colab": {
          "base_uri": "https://localhost:8080/",
          "height": 218
        },
        "outputId": "4ce31162-5269-4f6b-9fc3-00150d867ceb"
      },
      "source": [
        "test = meta.filter(meta.abstract.contains(\"ELECTRONIC SUPPLEMENTARY MATERIAL\"))\n",
        "test.show(5)"
      ],
      "execution_count": null,
      "outputs": [
        {
          "output_type": "stream",
          "text": [
            "+--------+------------+--------------------+-------+--------------------+------------+--------------------+------------------+--------------------+----------+\n",
            "|cord_uid|    source_x|               title|license|            abstract|publish_year|             authors|           journal|                 url|word_count|\n",
            "+--------+------------+--------------------+-------+--------------------+------------+--------------------+------------------+--------------------+----------+\n",
            "|0pzjyrdf|Medline; PMC|Detection of Alph...|  no-cc|A survey was carr...|        2013|Lima, Francisco E...|       Virus Genes|https://www.ncbi....|       107|\n",
            "|7o7ofk1e|Medline; PMC|The porcine trans...|  cc-by|BACKGROUND: The u...|        2017|Dawson, Harry D.;...|      BMC Genomics|https://doi.org/1...|       295|\n",
            "|eszp9jnw|         PMC|Genetic Variation...|  no-cc|Enteroviruses (EV...|        2020|Zhou, Yonghong; V...|         Virol Sin|https://www.ncbi....|       263|\n",
            "|lq46nj8j|Medline; PMC|Clinical course o...|  no-cc|Although several ...|        2020|Takahashi, Nozomi...|    J Artif Organs|https://www.ncbi....|       250|\n",
            "|omv6rkl1|         PMC|Acute respiratory...|  no-cc|PURPOSE: Previous...|        2020|Auriemma, Catheri...|Intensive Care Med|https://www.ncbi....|       277|\n",
            "+--------+------------+--------------------+-------+--------------------+------------+--------------------+------------------+--------------------+----------+\n",
            "only showing top 5 rows\n",
            "\n"
          ],
          "name": "stdout"
        }
      ]
    },
    {
      "cell_type": "code",
      "metadata": {
        "id": "D3C5MMJ_cmP3",
        "colab": {
          "base_uri": "https://localhost:8080/",
          "height": 99
        },
        "outputId": "3d35ed25-23cb-4821-a12b-0f36bfaea661"
      },
      "source": [
        "suffix = \"ELECTRONIC SUPPLEMENTARY MATERIAL\"\n",
        "test = meta.withColumn(\"abstract\", F.split(col(\"abstract\"), suffix).getItem(0))\n",
        "test.filter(test.abstract.contains(suffix)).show()\n"
      ],
      "execution_count": null,
      "outputs": [
        {
          "output_type": "stream",
          "text": [
            "+--------+--------+-----+-------+--------+------------+-------+-------+---+----------+\n",
            "|cord_uid|source_x|title|license|abstract|publish_year|authors|journal|url|word_count|\n",
            "+--------+--------+-----+-------+--------+------------+-------+-------+---+----------+\n",
            "+--------+--------+-----+-------+--------+------------+-------+-------+---+----------+\n",
            "\n"
          ],
          "name": "stdout"
        }
      ]
    },
    {
      "cell_type": "code",
      "metadata": {
        "id": "MxGXvJZagZwC",
        "colab": {
          "base_uri": "https://localhost:8080/",
          "height": 218
        },
        "outputId": "b91965a2-9584-4384-9b83-ce2361789318"
      },
      "source": [
        "copyright = \"This article is protected by copyright. All rights reserved.\"\n",
        "meta.filter(meta.abstract.contains(copyright))\n",
        "meta.show(5)"
      ],
      "execution_count": null,
      "outputs": [
        {
          "output_type": "stream",
          "text": [
            "+--------+--------------------+--------------------+---------+--------------------+------------+--------------------+--------------------+--------------------+----------+\n",
            "|cord_uid|            source_x|               title|  license|            abstract|publish_year|             authors|             journal|                 url|word_count|\n",
            "+--------+--------------------+--------------------+---------+--------------------+------------+--------------------+--------------------+--------------------+----------+\n",
            "|00a19z5i|Elsevier; Medline...|Testing the modul...|els-covid|Abstract The N-te...|        2006|Teterina, Natalya...|            Virology|https://www.scien...|       207|\n",
            "|02rcmt0g|             Medline|Activation of Egr...|      unk|Human immunodefic...|        2011|Fan, Yan; Zou, We...|Journal of neuroi...|https://doi.org/1...|       201|\n",
            "|034w5afv|        Medline; PMC|Dissolution Advan...|    cc-by|The effect of hyd...|        2019|Salas-Zúñiga, Rey...|       Pharmaceutics|https://www.ncbi....|       236|\n",
            "|04uf62g7|             Medline|Thin-section comp...|      unk|Background To dat...|        2017|Park, Chan Kue; K...|    Acta radiologica|https://doi.org/1...|       259|\n",
            "|0bpse3a0|             Medline|Conducting polyme...|      unk|The non-linear el...|        2006|Erokhin, Victor; ...|         Soft matter|https://doi.org/1...|        65|\n",
            "+--------+--------------------+--------------------+---------+--------------------+------------+--------------------+--------------------+--------------------+----------+\n",
            "only showing top 5 rows\n",
            "\n"
          ],
          "name": "stdout"
        }
      ]
    },
    {
      "cell_type": "code",
      "metadata": {
        "id": "yfrEomUoh2zW",
        "colab": {
          "base_uri": "https://localhost:8080/",
          "height": 99
        },
        "outputId": "5f210b42-67d4-40c8-9086-9de6ee6ff18a"
      },
      "source": [
        "test = test.withColumn(\"abstract\", F.split(col(\"abstract\"), copyright).getItem(0))\n",
        "test.filter(test.abstract.contains(copyright)).show()"
      ],
      "execution_count": null,
      "outputs": [
        {
          "output_type": "stream",
          "text": [
            "+--------+--------+-----+-------+--------+------------+-------+-------+---+----------+\n",
            "|cord_uid|source_x|title|license|abstract|publish_year|authors|journal|url|word_count|\n",
            "+--------+--------+-----+-------+--------+------------+-------+-------+---+----------+\n",
            "+--------+--------+-----+-------+--------+------------+-------+-------+---+----------+\n",
            "\n"
          ],
          "name": "stdout"
        }
      ]
    },
    {
      "cell_type": "code",
      "metadata": {
        "id": "GV49_86Xi4m-",
        "colab": {
          "base_uri": "https://localhost:8080/",
          "height": 33
        },
        "outputId": "411240c5-ac5e-4400-9e91-1384f2fa4323"
      },
      "source": [
        "print(\"Record Count: \", test.count())"
      ],
      "execution_count": null,
      "outputs": [
        {
          "output_type": "stream",
          "text": [
            "Record Count:  112187\n"
          ],
          "name": "stdout"
        }
      ]
    },
    {
      "cell_type": "markdown",
      "metadata": {
        "id": "PnKvFhxK9Yw5"
      },
      "source": [
        "### Reformatting String Arrays "
      ]
    },
    {
      "cell_type": "code",
      "metadata": {
        "id": "rmh05Bc9Sv33"
      },
      "source": [
        "test = test.toPandas()"
      ],
      "execution_count": null,
      "outputs": []
    },
    {
      "cell_type": "code",
      "metadata": {
        "id": "vsAco-sYGbwq",
        "colab": {
          "base_uri": "https://localhost:8080/",
          "height": 572
        },
        "outputId": "53ff68d7-5b28-42d0-e8ab-a661c41e10a4"
      },
      "source": [
        "test[\"authors\"] = test[\"authors\"].apply(lambda x: str(x).replace(\",\", \"\").split(\";\"))\n",
        "test[\"source_x\"] = test[\"source_x\"].apply(lambda x: str(x).split(\";\"))\n",
        "test.head()"
      ],
      "execution_count": null,
      "outputs": [
        {
          "output_type": "execute_result",
          "data": {
            "text/html": [
              "<div>\n",
              "<style scoped>\n",
              "    .dataframe tbody tr th:only-of-type {\n",
              "        vertical-align: middle;\n",
              "    }\n",
              "\n",
              "    .dataframe tbody tr th {\n",
              "        vertical-align: top;\n",
              "    }\n",
              "\n",
              "    .dataframe thead th {\n",
              "        text-align: right;\n",
              "    }\n",
              "</style>\n",
              "<table border=\"1\" class=\"dataframe\">\n",
              "  <thead>\n",
              "    <tr style=\"text-align: right;\">\n",
              "      <th></th>\n",
              "      <th>cord_uid</th>\n",
              "      <th>source_x</th>\n",
              "      <th>title</th>\n",
              "      <th>license</th>\n",
              "      <th>abstract</th>\n",
              "      <th>publish_year</th>\n",
              "      <th>authors</th>\n",
              "      <th>journal</th>\n",
              "      <th>url</th>\n",
              "      <th>word_count</th>\n",
              "    </tr>\n",
              "  </thead>\n",
              "  <tbody>\n",
              "    <tr>\n",
              "      <th>0</th>\n",
              "      <td>00a19z5i</td>\n",
              "      <td>[Elsevier,  Medline,  PMC]</td>\n",
              "      <td>Testing the modularity of the N-terminal amphi...</td>\n",
              "      <td>els-covid</td>\n",
              "      <td>Abstract The N-terminal region of the picornav...</td>\n",
              "      <td>2006</td>\n",
              "      <td>[Teterina Natalya L.,  Gorbalenya Alexander E....</td>\n",
              "      <td>Virology</td>\n",
              "      <td>https://www.sciencedirect.com/science/article/...</td>\n",
              "      <td>207</td>\n",
              "    </tr>\n",
              "    <tr>\n",
              "      <th>1</th>\n",
              "      <td>02rcmt0g</td>\n",
              "      <td>[Medline]</td>\n",
              "      <td>Activation of Egr-1 expression in astrocytes b...</td>\n",
              "      <td>unk</td>\n",
              "      <td>Human immunodeficiency virus type 1 (HIV-1) Ta...</td>\n",
              "      <td>2011</td>\n",
              "      <td>[Fan Yan,  Zou Wei,  Green Linden A,  Kim Byun...</td>\n",
              "      <td>Journal of neuroimmune pharmacology : the offi...</td>\n",
              "      <td>https://doi.org/10.1007/s11481-010-9217-8; htt...</td>\n",
              "      <td>201</td>\n",
              "    </tr>\n",
              "    <tr>\n",
              "      <th>2</th>\n",
              "      <td>034w5afv</td>\n",
              "      <td>[Medline,  PMC]</td>\n",
              "      <td>Dissolution Advantage of Nitazoxanide Cocrysta...</td>\n",
              "      <td>cc-by</td>\n",
              "      <td>The effect of hydroxypropyl methylcellulose (H...</td>\n",
              "      <td>2019</td>\n",
              "      <td>[Salas-Zúñiga Reynaldo,  Rodríguez-Ruiz Christ...</td>\n",
              "      <td>Pharmaceutics</td>\n",
              "      <td>https://www.ncbi.nlm.nih.gov/pubmed/31881696/;...</td>\n",
              "      <td>236</td>\n",
              "    </tr>\n",
              "    <tr>\n",
              "      <th>3</th>\n",
              "      <td>04uf62g7</td>\n",
              "      <td>[Medline]</td>\n",
              "      <td>Thin-section computed tomography findings in 1...</td>\n",
              "      <td>unk</td>\n",
              "      <td>Background To date, there has been no computed...</td>\n",
              "      <td>2017</td>\n",
              "      <td>[Park Chan Kue,  Kwon Hoon,  Park Ji Young]</td>\n",
              "      <td>Acta radiologica</td>\n",
              "      <td>https://doi.org/10.1177/0284185116681039; http...</td>\n",
              "      <td>259</td>\n",
              "    </tr>\n",
              "    <tr>\n",
              "      <th>4</th>\n",
              "      <td>0bpse3a0</td>\n",
              "      <td>[Medline]</td>\n",
              "      <td>Conducting polymer-solid electrolyte fibrillar...</td>\n",
              "      <td>unk</td>\n",
              "      <td>The non-linear electrical characteristics of a...</td>\n",
              "      <td>2006</td>\n",
              "      <td>[Erokhin Victor,  Berzina Tatiana,  Camorani P...</td>\n",
              "      <td>Soft matter</td>\n",
              "      <td>https://doi.org/10.1039/b606893f; https://www....</td>\n",
              "      <td>65</td>\n",
              "    </tr>\n",
              "  </tbody>\n",
              "</table>\n",
              "</div>"
            ],
            "text/plain": [
              "   cord_uid  ... word_count\n",
              "0  00a19z5i  ...        207\n",
              "1  02rcmt0g  ...        201\n",
              "2  034w5afv  ...        236\n",
              "3  04uf62g7  ...        259\n",
              "4  0bpse3a0  ...         65\n",
              "\n",
              "[5 rows x 10 columns]"
            ]
          },
          "metadata": {
            "tags": []
          },
          "execution_count": 36
        }
      ]
    },
    {
      "cell_type": "markdown",
      "metadata": {
        "id": "8SJhgTvC-MUh"
      },
      "source": [
        ""
      ]
    },
    {
      "cell_type": "code",
      "metadata": {
        "id": "AlPVu1GtSTyk"
      },
      "source": [
        "test.to_csv('abstract_data_final_00.csv')"
      ],
      "execution_count": null,
      "outputs": []
    },
    {
      "cell_type": "markdown",
      "metadata": {
        "id": "57A4b9OzTVyZ"
      },
      "source": [
        ""
      ]
    }
  ]
}